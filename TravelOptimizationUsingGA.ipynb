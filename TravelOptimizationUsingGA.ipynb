{
 "cells": [
  {
   "cell_type": "code",
   "execution_count": 1,
   "metadata": {},
   "outputs": [],
   "source": [
    "import numpy as np\n",
    "import random, operator\n",
    "import pandas as pd\n",
    "import matplotlib.pyplot as plt"
   ]
  },
  {
   "cell_type": "code",
   "execution_count": 2,
   "metadata": {},
   "outputs": [],
   "source": [
    "class City:\n",
    "    def __init__(self, x, y):\n",
    "        self.x = x\n",
    "        self.y = y\n",
    "    \n",
    "    def distance(self, city):\n",
    "        xDis = abs(self.x - city.x)\n",
    "        yDis = abs(self.y - city.y)\n",
    "        distance = np.sqrt((xDis ** 2) + (yDis ** 2))\n",
    "        return distance\n",
    "    def __repr__(self):\n",
    "        return \"(\" + str(self.x) + \",\" + str(self.y) + \")\""
   ]
  },
  {
   "cell_type": "code",
   "execution_count": 3,
   "metadata": {},
   "outputs": [],
   "source": [
    "class Fitness:\n",
    "    def __init__(self, route):\n",
    "        self.route = route\n",
    "        self.distance = 0\n",
    "        self.fitness= 0.0\n",
    "    \n",
    "    def routeDistance(self):\n",
    "        if self.distance ==0:\n",
    "            pathDistance = 0\n",
    "            for i in range(0, len(self.route)):\n",
    "                fromCity = self.route[i]\n",
    "                toCity = None\n",
    "                if i + 1 < len(self.route):\n",
    "                    toCity = self.route[i + 1]\n",
    "                else:\n",
    "                    toCity = self.route[0]\n",
    "                pathDistance += fromCity.distance(toCity)\n",
    "            self.distance = pathDistance\n",
    "        return self.distance\n",
    "    \n",
    "    def routeFitness(self):\n",
    "        if self.fitness == 0:\n",
    "            self.fitness = 1 / float(self.routeDistance())\n",
    "        return self.fitness\n"
   ]
  },
  {
   "cell_type": "code",
   "execution_count": 4,
   "metadata": {},
   "outputs": [],
   "source": [
    "def createRoute(cityList):\n",
    "    route = random.sample(cityList, len(cityList))\n",
    "    return route"
   ]
  },
  {
   "cell_type": "code",
   "execution_count": 5,
   "metadata": {},
   "outputs": [],
   "source": [
    "def initialPopulation(popSize, cityList):\n",
    "    population = []\n",
    "\n",
    "    for i in range(0, popSize):\n",
    "        population.append(createRoute(cityList))\n",
    "    return population"
   ]
  },
  {
   "cell_type": "code",
   "execution_count": 6,
   "metadata": {},
   "outputs": [],
   "source": [
    "def rankRoutes(population):\n",
    "    fitnessResults = {}\n",
    "    for i in range(0,len(population)):\n",
    "        fitnessResults[i] = Fitness(population[i]).routeFitness()\n",
    "    return sorted(fitnessResults.items(), key = operator.itemgetter(1), reverse = True)"
   ]
  },
  {
   "cell_type": "code",
   "execution_count": 7,
   "metadata": {},
   "outputs": [],
   "source": [
    "def selection(popRanked, eliteSize):\n",
    "    selectionResults = []\n",
    "    df = pd.DataFrame(np.array(popRanked), columns=[\"Index\",\"Fitness\"])\n",
    "    df['cum_sum'] = df.Fitness.cumsum()\n",
    "    df['cum_perc'] = 100*df.cum_sum/df.Fitness.sum()\n",
    "    \n",
    "    for i in range(0, eliteSize):\n",
    "        selectionResults.append(popRanked[i][0])\n",
    "    for i in range(0, len(popRanked) - eliteSize):\n",
    "        pick = 100*random.random()\n",
    "        for i in range(0, len(popRanked)):\n",
    "            if pick <= df.iat[i,3]:\n",
    "                selectionResults.append(popRanked[i][0])\n",
    "                break\n",
    "#     print(df)\n",
    "    return selectionResults"
   ]
  },
  {
   "cell_type": "code",
   "execution_count": 8,
   "metadata": {},
   "outputs": [],
   "source": [
    "def matingPool(population, selectionResults):\n",
    "    matingpool = []\n",
    "    for i in range(0, len(selectionResults)):\n",
    "        index = selectionResults[i]\n",
    "        matingpool.append(population[index])\n",
    "    return matingpool"
   ]
  },
  {
   "cell_type": "code",
   "execution_count": 9,
   "metadata": {},
   "outputs": [],
   "source": [
    "def breed(parent1, parent2):\n",
    "    child = []\n",
    "    childP1 = []\n",
    "    childP2 = []\n",
    "    \n",
    "    geneA = int(random.random() * len(parent1))\n",
    "    geneB = int(random.random() * len(parent1))\n",
    "    \n",
    "    startGene = min(geneA, geneB)\n",
    "    endGene = max(geneA, geneB)\n",
    "\n",
    "    for i in range(startGene, endGene):\n",
    "        childP1.append(parent1[i])\n",
    "        \n",
    "    childP2 = [item for item in parent2 if item not in childP1]\n",
    "\n",
    "    child = childP1 + childP2\n",
    "    return child"
   ]
  },
  {
   "cell_type": "code",
   "execution_count": 10,
   "metadata": {},
   "outputs": [],
   "source": [
    "def breedPopulation(matingpool, eliteSize):\n",
    "    children = []\n",
    "    length = len(matingpool) - eliteSize\n",
    "    pool = random.sample(matingpool, len(matingpool))\n",
    "\n",
    "    for i in range(0,eliteSize):\n",
    "        children.append(matingpool[i])\n",
    "    \n",
    "    for i in range(0, length):\n",
    "        child = breed(pool[i], pool[len(matingpool)-i-1])\n",
    "        children.append(child)\n",
    "    return children"
   ]
  },
  {
   "cell_type": "code",
   "execution_count": 11,
   "metadata": {},
   "outputs": [],
   "source": [
    "def mutate(individual, mutationRate):\n",
    "    for swapped in range(len(individual)):\n",
    "        if(random.random() < mutationRate):\n",
    "            swapWith = int(random.random() * len(individual))\n",
    "            \n",
    "            city1 = individual[swapped]\n",
    "            city2 = individual[swapWith]\n",
    "            \n",
    "            individual[swapped] = city2\n",
    "            individual[swapWith] = city1\n",
    "    return individual"
   ]
  },
  {
   "cell_type": "code",
   "execution_count": 12,
   "metadata": {},
   "outputs": [],
   "source": [
    "def mutatePopulation(population, mutationRate):\n",
    "    mutatedPop = []\n",
    "    \n",
    "    for ind in range(0, len(population)):\n",
    "        mutatedInd = mutate(population[ind], mutationRate)\n",
    "        mutatedPop.append(mutatedInd)\n",
    "    return mutatedPop"
   ]
  },
  {
   "cell_type": "code",
   "execution_count": 13,
   "metadata": {},
   "outputs": [],
   "source": [
    "def nextGeneration(currentGen, eliteSize, mutationRate):\n",
    "    popRanked = rankRoutes(currentGen)\n",
    "    selectionResults = selection(popRanked, eliteSize)\n",
    "    matingpool = matingPool(currentGen, selectionResults)\n",
    "    children = breedPopulation(matingpool, eliteSize)\n",
    "    nextGeneration = mutatePopulation(children, mutationRate)\n",
    "    return nextGeneration"
   ]
  },
  {
   "cell_type": "code",
   "execution_count": 51,
   "metadata": {},
   "outputs": [],
   "source": [
    "import re\n",
    "def geneticAlgorithm(population, popSize, eliteSize, mutationRate, generations):\n",
    "    pop = initialPopulation(popSize, population)\n",
    "    print(\"Initial distance: \" + str(1 / rankRoutes(pop)[0][1]))\n",
    "    \n",
    "    for i in range(0, generations):\n",
    "        pop = nextGeneration(pop, eliteSize, mutationRate)\n",
    "    print(\"Final distance: \" + str(1 / rankRoutes(pop)[0][1]))\n",
    "    bestRouteIndex = rankRoutes(pop)[0][0]\n",
    "    bestRoute = pop[bestRouteIndex]\n",
    " \n",
    "    print(\"Best route: \",bestRoute)\n",
    "    return bestRoute\n",
    "    \n"
   ]
  },
  {
   "cell_type": "code",
   "execution_count": 15,
   "metadata": {},
   "outputs": [],
   "source": [
    "def ploting(bestRoute):\n",
    "    br=[]\n",
    "    for i in bestRoute:\n",
    "        j=str(i)\n",
    "        k=(tuple(map(int,(re.sub(r\"\\((.*?)\\)\", r\"\\1\", j).split(',')))))\n",
    "        br.append(k)\n",
    "    \n",
    "    start = [start[0] for start in br]\n",
    "    end = [end[1] for end in br]\n",
    " \n",
    "    plt.plot(start,end)\n",
    "    for i in br:\n",
    "        plt.scatter(i[0],i[1])  "
   ]
  },
  {
   "cell_type": "code",
   "execution_count": 16,
   "metadata": {},
   "outputs": [
    {
     "name": "stdout",
     "output_type": "stream",
     "text": [
      "List of City Coordinates : [(56,182), (159,68), (2,176), (4,88), (13,93), (168,198), (171,192), (124,34), (194,184), (91,29), (55,112), (159,161), (171,1), (171,185), (116,35), (108,43), (114,31), (78,45), (1,91), (192,66), (160,100), (148,55), (35,79), (170,78), (4,95)]\n"
     ]
    },
    {
     "data": {
      "image/png": "[encoded data removed]",
      "text/plain": [
       "<Figure size 432x288 with 1 Axes>"
      ]
     },
     "metadata": {
      "needs_background": "light"
     },
     "output_type": "display_data"
    }
   ],
   "source": [
    "cityList = []\n",
    "for i in range(0,25):\n",
    "    cityList.append(City(x=int(random.random() * 200), y=int(random.random() * 200)))\n",
    "print(\"List of City Coordinates :\",cityList)\n",
    "ploting(cityList)"
   ]
  },
  {
   "cell_type": "code",
   "execution_count": 17,
   "metadata": {
    "scrolled": true
   },
   "outputs": [
    {
     "name": "stdout",
     "output_type": "stream",
     "text": [
      "Initial distance: 2103.855311468689\n",
      "Final distance: 845.2283735174454\n"
     ]
    },
    {
     "data": {
      "image/png": "[encoded data removed]",
      "text/plain": [
       "<Figure size 432x288 with 1 Axes>"
      ]
     },
     "metadata": {
      "needs_background": "light"
     },
     "output_type": "display_data"
    }
   ],
   "source": [
    "ploting(geneticAlgorithm(population=cityList, popSize=100, eliteSize=20, mutationRate=0.01, generations=500))"
   ]
  },
  {
   "cell_type": "code",
   "execution_count": 18,
   "metadata": {},
   "outputs": [],
   "source": [
    "def differencePlot(population, popSize, eliteSize, mutationRate, generations):\n",
    "    pop = initialPopulation(popSize, population)\n",
    "    progress = []\n",
    "    progress.append(1 / rankRoutes(pop)[0][1])\n",
    "    \n",
    "    for i in range(0, generations):\n",
    "        pop = nextGeneration(pop, eliteSize, mutationRate)\n",
    "        progress.append(1 / rankRoutes(pop)[0][1])\n",
    "    \n",
    "    plt.plot(progress)\n",
    "    plt.ylabel('Distance')\n",
    "    plt.xlabel('Generation')\n",
    "    plt.show()"
   ]
  },
  {
   "cell_type": "code",
   "execution_count": 19,
   "metadata": {},
   "outputs": [
    {
     "data": {
      "image/png": "[encoded data removed]",
      "text/plain": [
       "<Figure size 432x288 with 1 Axes>"
      ]
     },
     "metadata": {
      "needs_background": "light"
     },
     "output_type": "display_data"
    }
   ],
   "source": [
    "differencePlot(population=cityList, popSize=100, eliteSize=20, mutationRate=0.01, generations=100)"
   ]
  },
  {
   "cell_type": "code",
   "execution_count": 20,
   "metadata": {},
   "outputs": [],
   "source": [
    "import folium\n",
    "def mappin(df,locationlist):\n",
    "    mapp = folium.Map(location=[])\n",
    "    for point in range(0,20):\n",
    "        folium.Marker(locationlist[point], popup=df['Country'][point]).add_to(mapp)\n",
    "    folium.PolyLine(locationlist, color=\"red\", weight=2.5, opacity=1).add_to(mapp)\n",
    "    return mapp"
   ]
  },
  {
   "cell_type": "code",
   "execution_count": 21,
   "metadata": {
    "scrolled": true
   },
   "outputs": [
    {
     "data": {
      "text/html": [
       "<div>\n",
       "<style scoped>\n",
       "    .dataframe tbody tr th:only-of-type {\n",
       "        vertical-align: middle;\n",
       "    }\n",
       "\n",
       "    .dataframe tbody tr th {\n",
       "        vertical-align: top;\n",
       "    }\n",
       "\n",
       "    .dataframe thead th {\n",
       "        text-align: right;\n",
       "    }\n",
       "</style>\n",
       "<table border=\"1\" class=\"dataframe\">\n",
       "  <thead>\n",
       "    <tr style=\"text-align: right;\">\n",
       "      <th></th>\n",
       "      <th>Country</th>\n",
       "      <th>latitude</th>\n",
       "      <th>longitude</th>\n",
       "    </tr>\n",
       "  </thead>\n",
       "  <tbody>\n",
       "    <tr>\n",
       "      <td>0</td>\n",
       "      <td>Andorra</td>\n",
       "      <td>42.546245</td>\n",
       "      <td>1.601554</td>\n",
       "    </tr>\n",
       "    <tr>\n",
       "      <td>1</td>\n",
       "      <td>United Arab Emirates</td>\n",
       "      <td>23.424076</td>\n",
       "      <td>53.847818</td>\n",
       "    </tr>\n",
       "    <tr>\n",
       "      <td>2</td>\n",
       "      <td>Afghanistan</td>\n",
       "      <td>33.939110</td>\n",
       "      <td>67.709953</td>\n",
       "    </tr>\n",
       "    <tr>\n",
       "      <td>3</td>\n",
       "      <td>Antigua and Barbuda</td>\n",
       "      <td>17.060816</td>\n",
       "      <td>-61.796428</td>\n",
       "    </tr>\n",
       "    <tr>\n",
       "      <td>4</td>\n",
       "      <td>Anguilla</td>\n",
       "      <td>18.220554</td>\n",
       "      <td>-63.068615</td>\n",
       "    </tr>\n",
       "    <tr>\n",
       "      <td>5</td>\n",
       "      <td>Albania</td>\n",
       "      <td>41.153332</td>\n",
       "      <td>20.168331</td>\n",
       "    </tr>\n",
       "    <tr>\n",
       "      <td>6</td>\n",
       "      <td>Armenia</td>\n",
       "      <td>40.069099</td>\n",
       "      <td>45.038189</td>\n",
       "    </tr>\n",
       "    <tr>\n",
       "      <td>7</td>\n",
       "      <td>Netherlands Antilles</td>\n",
       "      <td>12.226079</td>\n",
       "      <td>-69.060087</td>\n",
       "    </tr>\n",
       "    <tr>\n",
       "      <td>8</td>\n",
       "      <td>Angola</td>\n",
       "      <td>-11.202692</td>\n",
       "      <td>17.873887</td>\n",
       "    </tr>\n",
       "    <tr>\n",
       "      <td>9</td>\n",
       "      <td>Antarctica</td>\n",
       "      <td>-75.250973</td>\n",
       "      <td>-0.071389</td>\n",
       "    </tr>\n",
       "  </tbody>\n",
       "</table>\n",
       "</div>"
      ],
      "text/plain": [
       "                Country   latitude  longitude\n",
       "0               Andorra  42.546245   1.601554\n",
       "1  United Arab Emirates  23.424076  53.847818\n",
       "2           Afghanistan  33.939110  67.709953\n",
       "3   Antigua and Barbuda  17.060816 -61.796428\n",
       "4              Anguilla  18.220554 -63.068615\n",
       "5               Albania  41.153332  20.168331\n",
       "6               Armenia  40.069099  45.038189\n",
       "7  Netherlands Antilles  12.226079 -69.060087\n",
       "8                Angola -11.202692  17.873887\n",
       "9            Antarctica -75.250973  -0.071389"
      ]
     },
     "execution_count": 21,
     "metadata": {},
     "output_type": "execute_result"
    }
   ],
   "source": [
    "df = pd.read_csv('dataset.csv')\n",
    "df.head(10)"
   ]
  },
  {
   "cell_type": "code",
   "execution_count": 22,
   "metadata": {},
   "outputs": [
    {
     "name": "stdout",
     "output_type": "stream",
     "text": [
      "Random routes would be\n"
     ]
    }
   ],
   "source": [
    "print(\"Random routes would be\")"
   ]
  },
  {
   "cell_type": "code",
   "execution_count": 23,
   "metadata": {
    "scrolled": false
   },
   "outputs": [
    {
     "data": {
      "text/html": [
       "<div style=\"width:100%;\"><div style=\"position:relative;width:100%;height:0;padding-bottom:60%;\"><iframe src=\"data:text/html;charset=utf-8;base64,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\" style=\"position:absolute;width:100%;height:100%;left:0;top:0;border:none !important;\" allowfullscreen webkitallowfullscreen mozallowfullscreen></iframe></div></div>"
      ],
      "text/plain": [
       "<folium.folium.Map at 0x7f027ff4c5f8>"
      ]
     },
     "execution_count": 23,
     "metadata": {},
     "output_type": "execute_result"
    }
   ],
   "source": [
    "#click on the blue markers to read Country name\n",
    "locations = df[['latitude', 'longitude']]\n",
    "locationlist = locations.values.tolist()\n",
    "locationlist = locationlist[:20]\n",
    "mappin(df,locationlist)"
   ]
  },
  {
   "cell_type": "code",
   "execution_count": 24,
   "metadata": {
    "scrolled": true
   },
   "outputs": [
    {
     "name": "stdout",
     "output_type": "stream",
     "text": [
      "Initial distance: 1404.1508360703626\n",
      "Final distance: 746.105270599987\n"
     ]
    }
   ],
   "source": [
    "empttylist=[]\n",
    "new = df.iloc[:20,[1,2]]\n",
    "for i in new.values:\n",
    "    empttylist.append(City(i[0],i[1]))\n",
    "# print(empttylist)\n",
    "bestroute = geneticAlgorithm(population=empttylist, popSize=100, eliteSize=20, mutationRate=0.01, generations=500)\n"
   ]
  },
  {
   "cell_type": "code",
   "execution_count": 25,
   "metadata": {},
   "outputs": [
    {
     "data": {
      "text/html": [
       "<div style=\"width:100%;\"><div style=\"position:relative;width:100%;height:0;padding-bottom:60%;\"><iframe src=\"data:text/html;charset=utf-8;base64,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\" style=\"position:absolute;width:100%;height:100%;left:0;top:0;border:none !important;\" allowfullscreen webkitallowfullscreen mozallowfullscreen></iframe></div></div>"
      ],
      "text/plain": [
       "<folium.folium.Map at 0x7f027cebaf60>"
      ]
     },
     "execution_count": 25,
     "metadata": {},
     "output_type": "execute_result"
    }
   ],
   "source": [
    "br=[]\n",
    "for i in bestroute:\n",
    "    j=str(i)\n",
    "    k=(tuple(map(float,(re.sub(r\"\\((.*?)\\)\", r\"\\1\", j).split(',')))))\n",
    "    br.append(k)\n",
    "mappin(df,br)"
   ]
  },
  {
   "cell_type": "code",
   "execution_count": 26,
   "metadata": {},
   "outputs": [
    {
     "data": {
      "text/html": [
       "<div>\n",
       "<style scoped>\n",
       "    .dataframe tbody tr th:only-of-type {\n",
       "        vertical-align: middle;\n",
       "    }\n",
       "\n",
       "    .dataframe tbody tr th {\n",
       "        vertical-align: top;\n",
       "    }\n",
       "\n",
       "    .dataframe thead th {\n",
       "        text-align: right;\n",
       "    }\n",
       "</style>\n",
       "<table border=\"1\" class=\"dataframe\">\n",
       "  <thead>\n",
       "    <tr style=\"text-align: right;\">\n",
       "      <th></th>\n",
       "      <th>Places</th>\n",
       "      <th>latitude</th>\n",
       "      <th>longitude</th>\n",
       "    </tr>\n",
       "  </thead>\n",
       "  <tbody>\n",
       "    <tr>\n",
       "      <td>0</td>\n",
       "      <td>Angol</td>\n",
       "      <td>15.823429</td>\n",
       "      <td>74.503312</td>\n",
       "    </tr>\n",
       "    <tr>\n",
       "      <td>1</td>\n",
       "      <td>Belgaum</td>\n",
       "      <td>16.333333</td>\n",
       "      <td>74.750000</td>\n",
       "    </tr>\n",
       "    <tr>\n",
       "      <td>2</td>\n",
       "      <td>Belgaum Bus Stand</td>\n",
       "      <td>15.862862</td>\n",
       "      <td>74.525638</td>\n",
       "    </tr>\n",
       "    <tr>\n",
       "      <td>3</td>\n",
       "      <td>Belgaum Camp</td>\n",
       "      <td>15.868676</td>\n",
       "      <td>74.506198</td>\n",
       "    </tr>\n",
       "    <tr>\n",
       "      <td>4</td>\n",
       "      <td>Belgaum City</td>\n",
       "      <td>16.159162</td>\n",
       "      <td>74.888736</td>\n",
       "    </tr>\n",
       "    <tr>\n",
       "      <td>5</td>\n",
       "      <td>Belgaum Fort</td>\n",
       "      <td>15.858170</td>\n",
       "      <td>74.525565</td>\n",
       "    </tr>\n",
       "    <tr>\n",
       "      <td>6</td>\n",
       "      <td>Nehru Nagar</td>\n",
       "      <td>15.883319</td>\n",
       "      <td>74.519962</td>\n",
       "    </tr>\n",
       "  </tbody>\n",
       "</table>\n",
       "</div>"
      ],
      "text/plain": [
       "               Places   latitude  longitude\n",
       "0              Angol   15.823429  74.503312\n",
       "1            Belgaum   16.333333  74.750000\n",
       "2  Belgaum Bus Stand   15.862862  74.525638\n",
       "3      Belgaum Camp    15.868676  74.506198\n",
       "4       Belgaum City   16.159162  74.888736\n",
       "5       Belgaum Fort   15.858170  74.525565\n",
       "6        Nehru Nagar   15.883319  74.519962"
      ]
     },
     "execution_count": 26,
     "metadata": {},
     "output_type": "execute_result"
    }
   ],
   "source": [
    "df2 = pd.read_csv('belgaum.csv')\n",
    "df2.head(10)"
   ]
  },
  {
   "cell_type": "code",
   "execution_count": 27,
   "metadata": {},
   "outputs": [
    {
     "data": {
      "text/html": [
       "<div style=\"width:100%;\"><div style=\"position:relative;width:100%;height:0;padding-bottom:60%;\"><iframe src=\"data:text/html;charset=utf-8;base64,PCFET0NUWVBFIGh0bWw+CjxoZWFkPiAgICAKICAgIDxtZXRhIGh0dHAtZXF1aXY9ImNvbnRlbnQtdHlwZSIgY29udGVudD0idGV4dC9odG1sOyBjaGFyc2V0PVVURi04IiAvPgogICAgPHNjcmlwdD5MX1BSRUZFUl9DQU5WQVMgPSBmYWxzZTsgTF9OT19UT1VDSCA9IGZhbHNlOyBMX0RJU0FCTEVfM0QgPSBmYWxzZTs8L3NjcmlwdD4KICAgIDxzY3JpcHQgc3JjPSJodHRwczovL2Nkbi5qc2RlbGl2ci5uZXQvbnBtL2xlYWZsZXRAMS4yLjAvZGlzdC9sZWFmbGV0LmpzIj48L3NjcmlwdD4KICAgIDxzY3JpcHQgc3JjPSJodHRwczovL2FqYXguZ29vZ2xlYXBpcy5jb20vYWpheC9saWJzL2pxdWVyeS8xLjExLjEvanF1ZXJ5Lm1pbi5qcyI+PC9zY3JpcHQ+CiAgICA8c2NyaXB0IHNyYz0iaHR0cHM6Ly9tYXhjZG4uYm9vdHN0cmFwY2RuLmNvbS9ib290c3RyYXAvMy4yLjAvanMvYm9vdHN0cmFwLm1pbi5qcyI+PC9zY3JpcHQ+CiAgICA8c2NyaXB0IHNyYz0iaHR0cHM6Ly9jZG5qcy5jbG91ZGZsYXJlLmNvbS9hamF4L2xpYnMvTGVhZmxldC5hd2Vzb21lLW1hcmtlcnMvMi4wLjIvbGVhZmxldC5hd2Vzb21lLW1hcmtlcnMuanMiPjwvc2NyaXB0PgogICAgPGxpbmsgcmVsPSJzdHlsZXNoZWV0IiBocmVmPSJodHRwczovL2Nkbi5qc2RlbGl2ci5uZXQvbnBtL2xlYWZsZXRAMS4yLjAvZGlzdC9sZWFmbGV0LmNzcyIvPgogICAgPGxpbmsgcmVsPSJzdHlsZXNoZWV0IiBocmVmPSJodHRwczovL21heGNkbi5ib290c3RyYXBjZG4uY29tL2Jvb3RzdHJhcC8zLjIuMC9jc3MvYm9vdHN0cmFwLm1pbi5jc3MiLz4KICAgIDxsaW5rIHJlbD0ic3R5bGVzaGVldCIgaHJlZj0iaHR0cHM6Ly9tYXhjZG4uYm9vdHN0cmFwY2RuLmNvbS9ib290c3RyYXAvMy4yLjAvY3NzL2Jvb3RzdHJhcC10aGVtZS5taW4uY3NzIi8+CiAgICA8bGluayByZWw9InN0eWxlc2hlZXQiIGhyZWY9Imh0dHBzOi8vbWF4Y2RuLmJvb3RzdHJhcGNkbi5jb20vZm9udC1hd2Vzb21lLzQuNi4zL2Nzcy9mb250LWF3ZXNvbWUubWluLmNzcyIvPgogICAgPGxpbmsgcmVsPSJzdHlsZXNoZWV0IiBocmVmPSJodHRwczovL2NkbmpzLmNsb3VkZmxhcmUuY29tL2FqYXgvbGlicy9MZWFmbGV0LmF3ZXNvbWUtbWFya2Vycy8yLjAuMi9sZWFmbGV0LmF3ZXNvbWUtbWFya2Vycy5jc3MiLz4KICAgIDxsaW5rIHJlbD0ic3R5bGVzaGVldCIgaHJlZj0iaHR0cHM6Ly9yYXdnaXQuY29tL3B5dGhvbi12aXN1YWxpemF0aW9uL2ZvbGl1bS9tYXN0ZXIvZm9saXVtL3RlbXBsYXRlcy9sZWFmbGV0LmF3ZXNvbWUucm90YXRlLmNzcyIvPgogICAgPHN0eWxlPmh0bWwsIGJvZHkge3dpZHRoOiAxMDAlO2hlaWdodDogMTAwJTttYXJnaW46IDA7cGFkZGluZzogMDt9PC9zdHlsZT4KICAgIDxzdHlsZT4jbWFwIHtwb3NpdGlvbjphYnNvbHV0ZTt0b3A6MDtib3R0b206MDtyaWdodDowO2xlZnQ6MDt9PC9zdHlsZT4KICAgIAogICAgICAgICAgICA8c3R5bGU+ICNtYXBfYmMwMTAxNjcxMzhiNDY1MTgwZmI3OWQ4OTNiYjQ0MDUgewogICAgICAgICAgICAgICAgcG9zaXRpb24gOiByZWxhdGl2ZTsKICAgICAgICAgICAgICAgIHdpZHRoIDogMTAwLjAlOwogICAgICAgICAgICAgICAgaGVpZ2h0OiAxMDAuMCU7CiAgICAgICAgICAgICAgICBsZWZ0OiAwLjAlOwogICAgICAgICAgICAgICAgdG9wOiAwLjAlOwogICAgICAgICAgICAgICAgfQogICAgICAgICAgICA8L3N0eWxlPgogICAgICAgIAo8L2hlYWQ+Cjxib2R5PiAgICAKICAgIAogICAgICAgICAgICA8ZGl2IGNsYXNzPSJmb2xpdW0tbWFwIiBpZD0ibWFwX2JjMDEwMTY3MTM4YjQ2NTE4MGZiNzlkODkzYmI0NDA1IiA+PC9kaXY+CiAgICAgICAgCjwvYm9keT4KPHNjcmlwdD4gICAgCiAgICAKCiAgICAgICAgICAgIAogICAgICAgICAgICAgICAgdmFyIGJvdW5kcyA9IG51bGw7CiAgICAgICAgICAgIAoKICAgICAgICAgICAgdmFyIG1hcF9iYzAxMDE2NzEzOGI0NjUxODBmYjc5ZDg5M2JiNDQwNSA9IEwubWFwKAogICAgICAgICAgICAgICAgICAgICAgICAgICAgICAgICAgJ21hcF9iYzAxMDE2NzEzOGI0NjUxODBmYjc5ZDg5M2JiNDQwNScsCiAgICAgICAgICAgICAgICAgICAgICAgICAgICAgICAgICB7Y2VudGVyOiBbMTUuODYyODYyLDc0LjUyNTYzOF0sCiAgICAgICAgICAgICAgICAgICAgICAgICAgICAgICAgICB6b29tOiAxMywKICAgICAgICAgICAgICAgICAgICAgICAgICAgICAgICAgIG1heEJvdW5kczogYm91bmRzLAogICAgICAgICAgICAgICAgICAgICAgICAgICAgICAgICAgbGF5ZXJzOiBbXSwKICAgICAgICAgICAgICAgICAgICAgICAgICAgICAgICAgIHdvcmxkQ29weUp1bXA6IGZhbHNlLAogICAgICAgICAgICAgICAgICAgICAgICAgICAgICAgICAgY3JzOiBMLkNSUy5FUFNHMzg1NwogICAgICAgICAgICAgICAgICAgICAgICAgICAgICAgICB9KTsKICAgICAgICAgICAgCiAgICAgICAgCiAgICAKICAgICAgICAgICAgdmFyIHRpbGVfbGF5ZXJfYjkzNGQ2MzJlZjZkNGRhMGIyODIyMTE5MzVmZTQ4MDkgPSBMLnRpbGVMYXllcigKICAgICAgICAgICAgICAgICdodHRwczovL3tzfS50aWxlLm9wZW5zdHJlZXRtYXAub3JnL3t6fS97eH0ve3l9LnBuZycsCiAgICAgICAgICAgICAgICB7CiAgImF0dHJpYnV0aW9uIjogbnVsbCwKICAiZGV0ZWN0UmV0aW5hIjogZmFsc2UsCiAgIm1heFpvb20iOiAxOCwKICAibWluWm9vbSI6IDEsCiAgIm5vV3JhcCI6IGZhbHNlLAogICJzdWJkb21haW5zIjogImFiYyIKfQogICAgICAgICAgICAgICAgKS5hZGRUbyhtYXBfYmMwMTAxNjcxMzhiNDY1MTgwZmI3OWQ4OTNiYjQ0MDUpOwogICAgICAgIAogICAgCgogICAgICAgICAgICB2YXIgbWFya2VyXzZmODVjNDIwMzBmODQyOWZhYTU0YjU3MGYxY2Y1ZjYxID0gTC5tYXJrZXIoCiAgICAgICAgICAgICAgICBbMTUuODIzNDI5LDc0LjUwMzMxMl0sCiAgICAgICAgICAgICAgICB7CiAgICAgICAgICAgICAgICAgICAgaWNvbjogbmV3IEwuSWNvbi5EZWZhdWx0KCkKICAgICAgICAgICAgICAgICAgICB9CiAgICAgICAgICAgICAgICApCiAgICAgICAgICAgICAgICAuYWRkVG8obWFwX2JjMDEwMTY3MTM4YjQ2NTE4MGZiNzlkODkzYmI0NDA1KTsKICAgICAgICAgICAgCiAgICAKICAgICAgICAgICAgdmFyIHBvcHVwX2MzNGRmNjFkZmJjNzRhZDdhYjY1ODUwOGU3ODY2M2M4ID0gTC5wb3B1cCh7bWF4V2lkdGg6ICczMDAnfSk7CgogICAgICAgICAgICAKICAgICAgICAgICAgICAgIHZhciBodG1sXzZiZjFlNzZlMTJjMjQyN2ZiMmU1YTBkM2M4MGEyMTZiID0gJCgnPGRpdiBpZD0iaHRtbF82YmYxZTc2ZTEyYzI0MjdmYjJlNWEwZDNjODBhMjE2YiIgc3R5bGU9IndpZHRoOiAxMDAuMCU7IGhlaWdodDogMTAwLjAlOyI+QW5nb2wgPC9kaXY+JylbMF07CiAgICAgICAgICAgICAgICBwb3B1cF9jMzRkZjYxZGZiYzc0YWQ3YWI2NTg1MDhlNzg2NjNjOC5zZXRDb250ZW50KGh0bWxfNmJmMWU3NmUxMmMyNDI3ZmIyZTVhMGQzYzgwYTIxNmIpOwogICAgICAgICAgICAKCiAgICAgICAgICAgIG1hcmtlcl82Zjg1YzQyMDMwZjg0MjlmYWE1NGI1NzBmMWNmNWY2MS5iaW5kUG9wdXAocG9wdXBfYzM0ZGY2MWRmYmM3NGFkN2FiNjU4NTA4ZTc4NjYzYzgpOwoKICAgICAgICAgICAgCiAgICAgICAgCiAgICAKCiAgICAgICAgICAgIHZhciBtYXJrZXJfODA5YzNlZjI1YTA0NDlmN2EyNmU4ZGZmOWVhNmE3MTcgPSBMLm1hcmtlcigKICAgICAgICAgICAgICAgIFsxNi4zMzMzMzMsNzQuNzVdLAogICAgICAgICAgICAgICAgewogICAgICAgICAgICAgICAgICAgIGljb246IG5ldyBMLkljb24uRGVmYXVsdCgpCiAgICAgICAgICAgICAgICAgICAgfQogICAgICAgICAgICAgICAgKQogICAgICAgICAgICAgICAgLmFkZFRvKG1hcF9iYzAxMDE2NzEzOGI0NjUxODBmYjc5ZDg5M2JiNDQwNSk7CiAgICAgICAgICAgIAogICAgCiAgICAgICAgICAgIHZhciBwb3B1cF83MzFkYzg4ZDc5ZTM0ZjBiYTc3YWY2ZmY3Nzc3OWEwOCA9IEwucG9wdXAoe21heFdpZHRoOiAnMzAwJ30pOwoKICAgICAgICAgICAgCiAgICAgICAgICAgICAgICB2YXIgaHRtbF9mOTBjZWU3NTMzY2I0NzE4ODdlZmE5Yzg4MzM1NmFjMSA9ICQoJzxkaXYgaWQ9Imh0bWxfZjkwY2VlNzUzM2NiNDcxODg3ZWZhOWM4ODMzNTZhYzEiIHN0eWxlPSJ3aWR0aDogMTAwLjAlOyBoZWlnaHQ6IDEwMC4wJTsiPkJlbGdhdW0gPC9kaXY+JylbMF07CiAgICAgICAgICAgICAgICBwb3B1cF83MzFkYzg4ZDc5ZTM0ZjBiYTc3YWY2ZmY3Nzc3OWEwOC5zZXRDb250ZW50KGh0bWxfZjkwY2VlNzUzM2NiNDcxODg3ZWZhOWM4ODMzNTZhYzEpOwogICAgICAgICAgICAKCiAgICAgICAgICAgIG1hcmtlcl84MDljM2VmMjVhMDQ0OWY3YTI2ZThkZmY5ZWE2YTcxNy5iaW5kUG9wdXAocG9wdXBfNzMxZGM4OGQ3OWUzNGYwYmE3N2FmNmZmNzc3NzlhMDgpOwoKICAgICAgICAgICAgCiAgICAgICAgCiAgICAKCiAgICAgICAgICAgIHZhciBtYXJrZXJfZTdhNTRkNzgzZTE5NDA4N2E1MjMzNDE4ZDFhYTVjMTggPSBMLm1hcmtlcigKICAgICAgICAgICAgICAgIFsxNS44NjI4NjIsNzQuNTI1NjM4XSwKICAgICAgICAgICAgICAgIHsKICAgICAgICAgICAgICAgICAgICBpY29uOiBuZXcgTC5JY29uLkRlZmF1bHQoKQogICAgICAgICAgICAgICAgICAgIH0KICAgICAgICAgICAgICAgICkKICAgICAgICAgICAgICAgIC5hZGRUbyhtYXBfYmMwMTAxNjcxMzhiNDY1MTgwZmI3OWQ4OTNiYjQ0MDUpOwogICAgICAgICAgICAKICAgIAogICAgICAgICAgICB2YXIgcG9wdXBfNjc5NmM2MTU2N2MzNDVlMDlkNjcyNzkzMmE5ZDY1OWQgPSBMLnBvcHVwKHttYXhXaWR0aDogJzMwMCd9KTsKCiAgICAgICAgICAgIAogICAgICAgICAgICAgICAgdmFyIGh0bWxfMDZmNzFmMzBkNTMwNDUzMThlYTRlZWYzZmFlZWQ5M2MgPSAkKCc8ZGl2IGlkPSJodG1sXzA2ZjcxZjMwZDUzMDQ1MzE4ZWE0ZWVmM2ZhZWVkOTNjIiBzdHlsZT0id2lkdGg6IDEwMC4wJTsgaGVpZ2h0OiAxMDAuMCU7Ij5CZWxnYXVtIEJ1cyBTdGFuZCA8L2Rpdj4nKVswXTsKICAgICAgICAgICAgICAgIHBvcHVwXzY3OTZjNjE1NjdjMzQ1ZTA5ZDY3Mjc5MzJhOWQ2NTlkLnNldENvbnRlbnQoaHRtbF8wNmY3MWYzMGQ1MzA0NTMxOGVhNGVlZjNmYWVlZDkzYyk7CiAgICAgICAgICAgIAoKICAgICAgICAgICAgbWFya2VyX2U3YTU0ZDc4M2UxOTQwODdhNTIzMzQxOGQxYWE1YzE4LmJpbmRQb3B1cChwb3B1cF82Nzk2YzYxNTY3YzM0NWUwOWQ2NzI3OTMyYTlkNjU5ZCk7CgogICAgICAgICAgICAKICAgICAgICAKICAgIAoKICAgICAgICAgICAgdmFyIG1hcmtlcl81NzA3MGFkZTc0NjM0MTgxOWY2OThiMzAyM2ZjYTkxNiA9IEwubWFya2VyKAogICAgICAgICAgICAgICAgWzE1Ljg2ODY3Niw3NC41MDYxOThdLAogICAgICAgICAgICAgICAgewogICAgICAgICAgICAgICAgICAgIGljb246IG5ldyBMLkljb24uRGVmYXVsdCgpCiAgICAgICAgICAgICAgICAgICAgfQogICAgICAgICAgICAgICAgKQogICAgICAgICAgICAgICAgLmFkZFRvKG1hcF9iYzAxMDE2NzEzOGI0NjUxODBmYjc5ZDg5M2JiNDQwNSk7CiAgICAgICAgICAgIAogICAgCiAgICAgICAgICAgIHZhciBwb3B1cF8zMjBjMzhlZjBlZGE0NDliODQyNWY3NjVlNzk5ZjFhMSA9IEwucG9wdXAoe21heFdpZHRoOiAnMzAwJ30pOwoKICAgICAgICAgICAgCiAgICAgICAgICAgICAgICB2YXIgaHRtbF9lN2E1NTBkNDA0ZDg0ZjI5OWUzMzUzYTkzNzA4MmQ3NyA9ICQoJzxkaXYgaWQ9Imh0bWxfZTdhNTUwZDQwNGQ4NGYyOTllMzM1M2E5MzcwODJkNzciIHN0eWxlPSJ3aWR0aDogMTAwLjAlOyBoZWlnaHQ6IDEwMC4wJTsiPkJlbGdhdW0gQ2FtcCAgPC9kaXY+JylbMF07CiAgICAgICAgICAgICAgICBwb3B1cF8zMjBjMzhlZjBlZGE0NDliODQyNWY3NjVlNzk5ZjFhMS5zZXRDb250ZW50KGh0bWxfZTdhNTUwZDQwNGQ4NGYyOTllMzM1M2E5MzcwODJkNzcpOwogICAgICAgICAgICAKCiAgICAgICAgICAgIG1hcmtlcl81NzA3MGFkZTc0NjM0MTgxOWY2OThiMzAyM2ZjYTkxNi5iaW5kUG9wdXAocG9wdXBfMzIwYzM4ZWYwZWRhNDQ5Yjg0MjVmNzY1ZTc5OWYxYTEpOwoKICAgICAgICAgICAgCiAgICAgICAgCiAgICAKCiAgICAgICAgICAgIHZhciBtYXJrZXJfMjA2YzQ1YTBiYTNhNDkxODgwYWM0MWU1Y2U2MTRkNDYgPSBMLm1hcmtlcigKICAgICAgICAgICAgICAgIFsxNi4xNTkxNjIsNzQuODg4NzM2XSwKICAgICAgICAgICAgICAgIHsKICAgICAgICAgICAgICAgICAgICBpY29uOiBuZXcgTC5JY29uLkRlZmF1bHQoKQogICAgICAgICAgICAgICAgICAgIH0KICAgICAgICAgICAgICAgICkKICAgICAgICAgICAgICAgIC5hZGRUbyhtYXBfYmMwMTAxNjcxMzhiNDY1MTgwZmI3OWQ4OTNiYjQ0MDUpOwogICAgICAgICAgICAKICAgIAogICAgICAgICAgICB2YXIgcG9wdXBfODQ5MjQ3NTg0ZTRmNGU5N2IyZWNiZTI5OTRkMGExZTcgPSBMLnBvcHVwKHttYXhXaWR0aDogJzMwMCd9KTsKCiAgICAgICAgICAgIAogICAgICAgICAgICAgICAgdmFyIGh0bWxfYzViYjMzZjhkYjQyNGNkY2IyZGZhZjUxZWZhOTQ3MWMgPSAkKCc8ZGl2IGlkPSJodG1sX2M1YmIzM2Y4ZGI0MjRjZGNiMmRmYWY1MWVmYTk0NzFjIiBzdHlsZT0id2lkdGg6IDEwMC4wJTsgaGVpZ2h0OiAxMDAuMCU7Ij5CZWxnYXVtIENpdHkgPC9kaXY+JylbMF07CiAgICAgICAgICAgICAgICBwb3B1cF84NDkyNDc1ODRlNGY0ZTk3YjJlY2JlMjk5NGQwYTFlNy5zZXRDb250ZW50KGh0bWxfYzViYjMzZjhkYjQyNGNkY2IyZGZhZjUxZWZhOTQ3MWMpOwogICAgICAgICAgICAKCiAgICAgICAgICAgIG1hcmtlcl8yMDZjNDVhMGJhM2E0OTE4ODBhYzQxZTVjZTYxNGQ0Ni5iaW5kUG9wdXAocG9wdXBfODQ5MjQ3NTg0ZTRmNGU5N2IyZWNiZTI5OTRkMGExZTcpOwoKICAgICAgICAgICAgCiAgICAgICAgCiAgICAKCiAgICAgICAgICAgIHZhciBtYXJrZXJfYTVjZTEzNWUyZjNiNDQ2OWEzOGUwNDYyYWYxZWVjMTYgPSBMLm1hcmtlcigKICAgICAgICAgICAgICAgIFsxNS44NTgxNzAwMDAwMDAwMDEsNzQuNTI1NTY1XSwKICAgICAgICAgICAgICAgIHsKICAgICAgICAgICAgICAgICAgICBpY29uOiBuZXcgTC5JY29uLkRlZmF1bHQoKQogICAgICAgICAgICAgICAgICAgIH0KICAgICAgICAgICAgICAgICkKICAgICAgICAgICAgICAgIC5hZGRUbyhtYXBfYmMwMTAxNjcxMzhiNDY1MTgwZmI3OWQ4OTNiYjQ0MDUpOwogICAgICAgICAgICAKICAgIAogICAgICAgICAgICB2YXIgcG9wdXBfNmUxMGU5YmQzZDg1NGQ4ZWE3NzM5YWU4MDVmZWFkMzkgPSBMLnBvcHVwKHttYXhXaWR0aDogJzMwMCd9KTsKCiAgICAgICAgICAgIAogICAgICAgICAgICAgICAgdmFyIGh0bWxfODVlNzEwNGUzYmM1NDhkNTlmNmYwZDdhNTczOGQyNjUgPSAkKCc8ZGl2IGlkPSJodG1sXzg1ZTcxMDRlM2JjNTQ4ZDU5ZjZmMGQ3YTU3MzhkMjY1IiBzdHlsZT0id2lkdGg6IDEwMC4wJTsgaGVpZ2h0OiAxMDAuMCU7Ij5CZWxnYXVtIEZvcnQgPC9kaXY+JylbMF07CiAgICAgICAgICAgICAgICBwb3B1cF82ZTEwZTliZDNkODU0ZDhlYTc3MzlhZTgwNWZlYWQzOS5zZXRDb250ZW50KGh0bWxfODVlNzEwNGUzYmM1NDhkNTlmNmYwZDdhNTczOGQyNjUpOwogICAgICAgICAgICAKCiAgICAgICAgICAgIG1hcmtlcl9hNWNlMTM1ZTJmM2I0NDY5YTM4ZTA0NjJhZjFlZWMxNi5iaW5kUG9wdXAocG9wdXBfNmUxMGU5YmQzZDg1NGQ4ZWE3NzM5YWU4MDVmZWFkMzkpOwoKICAgICAgICAgICAgCiAgICAgICAgCiAgICAKCiAgICAgICAgICAgIHZhciBtYXJrZXJfMDM2MjhmY2ExMzZhNDE5ZDljOTk4MmUyOGQ5NzYwZjkgPSBMLm1hcmtlcigKICAgICAgICAgICAgICAgIFsxNS44ODMzMTksNzQuNTE5OTYxOTk5OTk5OTldLAogICAgICAgICAgICAgICAgewogICAgICAgICAgICAgICAgICAgIGljb246IG5ldyBMLkljb24uRGVmYXVsdCgpCiAgICAgICAgICAgICAgICAgICAgfQogICAgICAgICAgICAgICAgKQogICAgICAgICAgICAgICAgLmFkZFRvKG1hcF9iYzAxMDE2NzEzOGI0NjUxODBmYjc5ZDg5M2JiNDQwNSk7CiAgICAgICAgICAgIAogICAgCiAgICAgICAgICAgIHZhciBwb3B1cF9hYTNjNmNiZDFmYzc0ODgzYTlmNmJhM2MwMDk1MzQ5MiA9IEwucG9wdXAoe21heFdpZHRoOiAnMzAwJ30pOwoKICAgICAgICAgICAgCiAgICAgICAgICAgICAgICB2YXIgaHRtbF9lNzhhMTc5OTMzZDg0ODkyYTE5OWIzZjc3ZjI1MmZkOCA9ICQoJzxkaXYgaWQ9Imh0bWxfZTc4YTE3OTkzM2Q4NDg5MmExOTliM2Y3N2YyNTJmZDgiIHN0eWxlPSJ3aWR0aDogMTAwLjAlOyBoZWlnaHQ6IDEwMC4wJTsiPk5laHJ1IE5hZ2FyIDwvZGl2PicpWzBdOwogICAgICAgICAgICAgICAgcG9wdXBfYWEzYzZjYmQxZmM3NDg4M2E5ZjZiYTNjMDA5NTM0OTIuc2V0Q29udGVudChodG1sX2U3OGExNzk5MzNkODQ4OTJhMTk5YjNmNzdmMjUyZmQ4KTsKICAgICAgICAgICAgCgogICAgICAgICAgICBtYXJrZXJfMDM2MjhmY2ExMzZhNDE5ZDljOTk4MmUyOGQ5NzYwZjkuYmluZFBvcHVwKHBvcHVwX2FhM2M2Y2JkMWZjNzQ4ODNhOWY2YmEzYzAwOTUzNDkyKTsKCiAgICAgICAgICAgIAogICAgICAgIAogICAgCiAgICAgICAgICAgICAgICB2YXIgcG9seV9saW5lXzk1MDJkMjU3NTI3MTRjMGViNDI5NDVmMTM3ODllMzE3ID0gTC5wb2x5bGluZSgKICAgICAgICAgICAgICAgICAgICBbWzE1LjgyMzQyOSwgNzQuNTAzMzEyXSwgWzE2LjMzMzMzMywgNzQuNzVdLCBbMTUuODYyODYyLCA3NC41MjU2MzhdLCBbMTUuODY4Njc2LCA3NC41MDYxOThdLCBbMTYuMTU5MTYyLCA3NC44ODg3MzZdLCBbMTUuODU4MTcwMDAwMDAwMDAxLCA3NC41MjU1NjVdLCBbMTUuODgzMzE5LCA3NC41MTk5NjE5OTk5OTk5OV1dLAogICAgICAgICAgICAgICAgICAgIHsKICAiYnViYmxpbmdNb3VzZUV2ZW50cyI6IHRydWUsCiAgImNvbG9yIjogInJlZCIsCiAgImRhc2hBcnJheSI6IG51bGwsCiAgImRhc2hPZmZzZXQiOiBudWxsLAogICJmaWxsIjogZmFsc2UsCiAgImZpbGxDb2xvciI6ICJyZWQiLAogICJmaWxsT3BhY2l0eSI6IDAuMiwKICAiZmlsbFJ1bGUiOiAiZXZlbm9kZCIsCiAgImxpbmVDYXAiOiAicm91bmQiLAogICJsaW5lSm9pbiI6ICJyb3VuZCIsCiAgIm5vQ2xpcCI6IGZhbHNlLAogICJvcGFjaXR5IjogMSwKICAic21vb3RoRmFjdG9yIjogMS4wLAogICJzdHJva2UiOiB0cnVlLAogICJ3ZWlnaHQiOiAyLjUKfSkuYWRkVG8obWFwX2JjMDEwMTY3MTM4YjQ2NTE4MGZiNzlkODkzYmI0NDA1KTsKICAgICAgICAgICAgCjwvc2NyaXB0Pg==\" style=\"position:absolute;width:100%;height:100%;left:0;top:0;border:none !important;\" allowfullscreen webkitallowfullscreen mozallowfullscreen></iframe></div></div>"
      ],
      "text/plain": [
       "<folium.folium.Map at 0x7f027cde9ac8>"
      ]
     },
     "execution_count": 27,
     "metadata": {},
     "output_type": "execute_result"
    }
   ],
   "source": [
    "locations = df2[['latitude', 'longitude']]\n",
    "locationlist = locations.values.tolist()\n",
    "locationlist = locationlist[:7]\n",
    "import folium\n",
    "def mapping(df,locationlist,a):\n",
    "    mapp = folium.Map(location=[15.862862,74.525638],zoom_start=13)\n",
    "    for point in range(0,a):\n",
    "        folium.Marker(locationlist[point], popup=df['Places'][point]).add_to(mapp)\n",
    "    folium.PolyLine(locationlist, color=\"red\", weight=2.5, opacity=1).add_to(mapp)\n",
    "    return mapp\n",
    "mapping(df2,locationlist,a=7)"
   ]
  },
  {
   "cell_type": "code",
   "execution_count": 30,
   "metadata": {},
   "outputs": [
    {
     "name": "stdout",
     "output_type": "stream",
     "text": [
      "[(15.823429,74.503312), (16.333333,74.75), (15.862862,74.525638), (15.868676,74.506198), (16.159162,74.888736), (15.858170000000001,74.525565), (15.883319,74.51996199999999)]\n",
      "Initial distance: 1.315204073512555\n",
      "Final distance: 1.3081097188285464\n"
     ]
    }
   ],
   "source": [
    "empttylist=[]\n",
    "new = df2.iloc[:7,[1,2]]\n",
    "for i in new.values:\n",
    "    empttylist.append(City(i[0],i[1]))\n",
    "print(empttylist)\n",
    "bestroute = geneticAlgorithm(population=empttylist, popSize=100, eliteSize=20, mutationRate=0.01, generations=500)\n"
   ]
  },
  {
   "cell_type": "code",
   "execution_count": 29,
   "metadata": {},
   "outputs": [
    {
     "data": {
      "text/html": [
       "<div style=\"width:100%;\"><div style=\"position:relative;width:100%;height:0;padding-bottom:60%;\"><iframe src=\"data:text/html;charset=utf-8;base64,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\" style=\"position:absolute;width:100%;height:100%;left:0;top:0;border:none !important;\" allowfullscreen webkitallowfullscreen mozallowfullscreen></iframe></div></div>"
      ],
      "text/plain": [
       "<folium.folium.Map at 0x7f027cebad68>"
      ]
     },
     "execution_count": 29,
     "metadata": {},
     "output_type": "execute_result"
    }
   ],
   "source": [
    "br=[]\n",
    "for i in bestroute:\n",
    "    j=str(i)\n",
    "    k=(tuple(map(float,(re.sub(r\"\\((.*?)\\)\", r\"\\1\", j).split(',')))))\n",
    "    br.append(k)\n",
    "mapping(df2,br,a=7)"
   ]
  },
  {
   "cell_type": "code",
   "execution_count": 32,
   "metadata": {},
   "outputs": [
    {
     "data": {
      "text/html": [
       "<div>\n",
       "<style scoped>\n",
       "    .dataframe tbody tr th:only-of-type {\n",
       "        vertical-align: middle;\n",
       "    }\n",
       "\n",
       "    .dataframe tbody tr th {\n",
       "        vertical-align: top;\n",
       "    }\n",
       "\n",
       "    .dataframe thead th {\n",
       "        text-align: right;\n",
       "    }\n",
       "</style>\n",
       "<table border=\"1\" class=\"dataframe\">\n",
       "  <thead>\n",
       "    <tr style=\"text-align: right;\">\n",
       "      <th></th>\n",
       "      <th>city</th>\n",
       "      <th>lat</th>\n",
       "      <th>lng</th>\n",
       "      <th>country</th>\n",
       "      <th>iso2</th>\n",
       "      <th>admin</th>\n",
       "      <th>capital</th>\n",
       "      <th>population</th>\n",
       "      <th>population_proper</th>\n",
       "    </tr>\n",
       "  </thead>\n",
       "  <tbody>\n",
       "    <tr>\n",
       "      <td>0</td>\n",
       "      <td>Mumbai</td>\n",
       "      <td>18.987807</td>\n",
       "      <td>72.836447</td>\n",
       "      <td>India</td>\n",
       "      <td>IN</td>\n",
       "      <td>Mahārāshtra</td>\n",
       "      <td>admin</td>\n",
       "      <td>18978000.0</td>\n",
       "      <td>12691836.0</td>\n",
       "    </tr>\n",
       "    <tr>\n",
       "      <td>1</td>\n",
       "      <td>Delhi</td>\n",
       "      <td>28.651952</td>\n",
       "      <td>77.231495</td>\n",
       "      <td>India</td>\n",
       "      <td>IN</td>\n",
       "      <td>Delhi</td>\n",
       "      <td>admin</td>\n",
       "      <td>15926000.0</td>\n",
       "      <td>7633213.0</td>\n",
       "    </tr>\n",
       "    <tr>\n",
       "      <td>2</td>\n",
       "      <td>Kolkata</td>\n",
       "      <td>22.562627</td>\n",
       "      <td>88.363044</td>\n",
       "      <td>India</td>\n",
       "      <td>IN</td>\n",
       "      <td>West Bengal</td>\n",
       "      <td>admin</td>\n",
       "      <td>14787000.0</td>\n",
       "      <td>4631392.0</td>\n",
       "    </tr>\n",
       "    <tr>\n",
       "      <td>3</td>\n",
       "      <td>Chennai</td>\n",
       "      <td>13.084622</td>\n",
       "      <td>80.248357</td>\n",
       "      <td>India</td>\n",
       "      <td>IN</td>\n",
       "      <td>Tamil Nādu</td>\n",
       "      <td>admin</td>\n",
       "      <td>7163000.0</td>\n",
       "      <td>4328063.0</td>\n",
       "    </tr>\n",
       "    <tr>\n",
       "      <td>4</td>\n",
       "      <td>Bengalūru</td>\n",
       "      <td>12.977063</td>\n",
       "      <td>77.587106</td>\n",
       "      <td>India</td>\n",
       "      <td>IN</td>\n",
       "      <td>Karnātaka</td>\n",
       "      <td>admin</td>\n",
       "      <td>6787000.0</td>\n",
       "      <td>5104047.0</td>\n",
       "    </tr>\n",
       "    <tr>\n",
       "      <td>5</td>\n",
       "      <td>Hyderabad</td>\n",
       "      <td>17.384052</td>\n",
       "      <td>78.456355</td>\n",
       "      <td>India</td>\n",
       "      <td>IN</td>\n",
       "      <td>Andhra Pradesh</td>\n",
       "      <td>admin</td>\n",
       "      <td>6376000.0</td>\n",
       "      <td>3597816.0</td>\n",
       "    </tr>\n",
       "    <tr>\n",
       "      <td>6</td>\n",
       "      <td>Ahmadābād</td>\n",
       "      <td>23.025793</td>\n",
       "      <td>72.587265</td>\n",
       "      <td>India</td>\n",
       "      <td>IN</td>\n",
       "      <td>Gujarāt</td>\n",
       "      <td>minor</td>\n",
       "      <td>5375000.0</td>\n",
       "      <td>3719710.0</td>\n",
       "    </tr>\n",
       "    <tr>\n",
       "      <td>7</td>\n",
       "      <td>Hāora</td>\n",
       "      <td>22.576882</td>\n",
       "      <td>88.318566</td>\n",
       "      <td>India</td>\n",
       "      <td>IN</td>\n",
       "      <td>West Bengal</td>\n",
       "      <td>NaN</td>\n",
       "      <td>4841638.0</td>\n",
       "      <td>1027672.0</td>\n",
       "    </tr>\n",
       "    <tr>\n",
       "      <td>8</td>\n",
       "      <td>Pune</td>\n",
       "      <td>18.513271</td>\n",
       "      <td>73.849852</td>\n",
       "      <td>India</td>\n",
       "      <td>IN</td>\n",
       "      <td>Mahārāshtra</td>\n",
       "      <td>NaN</td>\n",
       "      <td>4672000.0</td>\n",
       "      <td>2935744.0</td>\n",
       "    </tr>\n",
       "    <tr>\n",
       "      <td>9</td>\n",
       "      <td>Sūrat</td>\n",
       "      <td>21.195944</td>\n",
       "      <td>72.830232</td>\n",
       "      <td>India</td>\n",
       "      <td>IN</td>\n",
       "      <td>Gujarāt</td>\n",
       "      <td>NaN</td>\n",
       "      <td>3842000.0</td>\n",
       "      <td>2894504.0</td>\n",
       "    </tr>\n",
       "  </tbody>\n",
       "</table>\n",
       "</div>"
      ],
      "text/plain": [
       "        city        lat        lng country iso2           admin capital  \\\n",
       "0     Mumbai  18.987807  72.836447   India   IN     Mahārāshtra   admin   \n",
       "1      Delhi  28.651952  77.231495   India   IN           Delhi   admin   \n",
       "2    Kolkata  22.562627  88.363044   India   IN     West Bengal   admin   \n",
       "3    Chennai  13.084622  80.248357   India   IN     Tamil Nādu    admin   \n",
       "4  Bengalūru  12.977063  77.587106   India   IN       Karnātaka   admin   \n",
       "5  Hyderabad  17.384052  78.456355   India   IN  Andhra Pradesh   admin   \n",
       "6  Ahmadābād  23.025793  72.587265   India   IN         Gujarāt   minor   \n",
       "7      Hāora  22.576882  88.318566   India   IN     West Bengal     NaN   \n",
       "8       Pune  18.513271  73.849852   India   IN     Mahārāshtra     NaN   \n",
       "9      Sūrat  21.195944  72.830232   India   IN         Gujarāt     NaN   \n",
       "\n",
       "   population  population_proper  \n",
       "0  18978000.0         12691836.0  \n",
       "1  15926000.0          7633213.0  \n",
       "2  14787000.0          4631392.0  \n",
       "3   7163000.0          4328063.0  \n",
       "4   6787000.0          5104047.0  \n",
       "5   6376000.0          3597816.0  \n",
       "6   5375000.0          3719710.0  \n",
       "7   4841638.0          1027672.0  \n",
       "8   4672000.0          2935744.0  \n",
       "9   3842000.0          2894504.0  "
      ]
     },
     "execution_count": 32,
     "metadata": {},
     "output_type": "execute_result"
    }
   ],
   "source": [
    "df3 = pd.read_csv('in.csv')\n",
    "df3.head(10)"
   ]
  },
  {
   "cell_type": "code",
   "execution_count": 36,
   "metadata": {},
   "outputs": [
    {
     "data": {
      "text/html": [
       "<div style=\"width:100%;\"><div style=\"position:relative;width:100%;height:0;padding-bottom:60%;\"><iframe src=\"data:text/html;charset=utf-8;base64,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\" style=\"position:absolute;width:100%;height:100%;left:0;top:0;border:none !important;\" allowfullscreen webkitallowfullscreen mozallowfullscreen></iframe></div></div>"
      ],
      "text/plain": [
       "<folium.folium.Map at 0x7f027fc2ba90>"
      ]
     },
     "execution_count": 36,
     "metadata": {},
     "output_type": "execute_result"
    }
   ],
   "source": [
    "locations = df3[['lat', 'lng']]\n",
    "locationlist = locations.values.tolist()\n",
    "locationlist = locationlist[:10]\n",
    "import folium\n",
    "def mapping(df,locationlist,a):\n",
    "    mapp = folium.Map(location=[18.987807,72.836447],zoom_start=13)\n",
    "    for point in range(0,a):\n",
    "        folium.Marker(locationlist[point], popup=df['city'][point]).add_to(mapp)\n",
    "    folium.PolyLine(locationlist, color=\"red\", weight=2.5, opacity=1).add_to(mapp)\n",
    "    return mapp\n",
    "mapping(df2,locationlist,a=10)"
   ]
  },
  {
   "cell_type": "code",
   "execution_count": 37,
   "metadata": {},
   "outputs": [
    {
     "name": "stdout",
     "output_type": "stream",
     "text": [
      "[(18.987807,72.83644699999999), (28.651952,77.231495), (22.562627,88.36304399999999), (13.084622,80.248357), (12.977063000000001,77.587106), (17.384052,78.456355), (23.025793,72.587265), (22.576882,88.318566), (18.513271,73.849852), (21.195944,72.830232)]\n",
      "Initial distance: 65.58437162659726\n",
      "Final distance: 49.532938607936124\n"
     ]
    }
   ],
   "source": [
    "empttylist=[]\n",
    "new = df3.iloc[:10,[1,2]]\n",
    "for i in new.values:\n",
    "    empttylist.append(City(i[0],i[1]))\n",
    "print(empttylist)\n",
    "bestroute = geneticAlgorithm(population=empttylist, popSize=100, eliteSize=20, mutationRate=0.01, generations=500)\n"
   ]
  },
  {
   "cell_type": "code",
   "execution_count": 38,
   "metadata": {},
   "outputs": [
    {
     "data": {
      "text/html": [
       "<div style=\"width:100%;\"><div style=\"position:relative;width:100%;height:0;padding-bottom:60%;\"><iframe src=\"data:text/html;charset=utf-8;base64,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\" style=\"position:absolute;width:100%;height:100%;left:0;top:0;border:none !important;\" allowfullscreen webkitallowfullscreen mozallowfullscreen></iframe></div></div>"
      ],
      "text/plain": [
       "<folium.folium.Map at 0x7f027cd40748>"
      ]
     },
     "execution_count": 38,
     "metadata": {},
     "output_type": "execute_result"
    }
   ],
   "source": [
    "br=[]\n",
    "for i in bestroute:\n",
    "    j=str(i)\n",
    "    k=(tuple(map(float,(re.sub(r\"\\((.*?)\\)\", r\"\\1\", j).split(',')))))\n",
    "    br.append(k)\n",
    "mapping(df3,br,a=10)"
   ]
  },
  {
   "cell_type": "code",
   "execution_count": 41,
   "metadata": {},
   "outputs": [
    {
     "data": {
      "text/html": [
       "<div>\n",
       "<style scoped>\n",
       "    .dataframe tbody tr th:only-of-type {\n",
       "        vertical-align: middle;\n",
       "    }\n",
       "\n",
       "    .dataframe tbody tr th {\n",
       "        vertical-align: top;\n",
       "    }\n",
       "\n",
       "    .dataframe thead th {\n",
       "        text-align: right;\n",
       "    }\n",
       "</style>\n",
       "<table border=\"1\" class=\"dataframe\">\n",
       "  <thead>\n",
       "    <tr style=\"text-align: right;\">\n",
       "      <th></th>\n",
       "      <th>city</th>\n",
       "      <th>lat</th>\n",
       "      <th>lng</th>\n",
       "      <th>country</th>\n",
       "      <th>iso2</th>\n",
       "      <th>admin</th>\n",
       "      <th>capital</th>\n",
       "      <th>population</th>\n",
       "      <th>population_proper</th>\n",
       "    </tr>\n",
       "  </thead>\n",
       "  <tbody>\n",
       "    <tr>\n",
       "      <td>0</td>\n",
       "      <td>Bengalūru</td>\n",
       "      <td>12.977063</td>\n",
       "      <td>77.587106</td>\n",
       "      <td>India</td>\n",
       "      <td>IN</td>\n",
       "      <td>Karnātaka</td>\n",
       "      <td>admin</td>\n",
       "      <td>6787000</td>\n",
       "      <td>5104047</td>\n",
       "    </tr>\n",
       "    <tr>\n",
       "      <td>1</td>\n",
       "      <td>Hubli</td>\n",
       "      <td>15.349955</td>\n",
       "      <td>75.138619</td>\n",
       "      <td>India</td>\n",
       "      <td>IN</td>\n",
       "      <td>Karnātaka</td>\n",
       "      <td>NaN</td>\n",
       "      <td>890000</td>\n",
       "      <td>792804</td>\n",
       "    </tr>\n",
       "    <tr>\n",
       "      <td>2</td>\n",
       "      <td>Mysore</td>\n",
       "      <td>12.292664</td>\n",
       "      <td>76.638543</td>\n",
       "      <td>India</td>\n",
       "      <td>IN</td>\n",
       "      <td>Karnātaka</td>\n",
       "      <td>NaN</td>\n",
       "      <td>887000</td>\n",
       "      <td>868313</td>\n",
       "    </tr>\n",
       "    <tr>\n",
       "      <td>3</td>\n",
       "      <td>Mangalore</td>\n",
       "      <td>12.865371</td>\n",
       "      <td>74.842432</td>\n",
       "      <td>India</td>\n",
       "      <td>IN</td>\n",
       "      <td>Karnātaka</td>\n",
       "      <td>NaN</td>\n",
       "      <td>776632</td>\n",
       "      <td>417387</td>\n",
       "    </tr>\n",
       "    <tr>\n",
       "      <td>4</td>\n",
       "      <td>Shimoga</td>\n",
       "      <td>13.932424</td>\n",
       "      <td>75.572555</td>\n",
       "      <td>India</td>\n",
       "      <td>IN</td>\n",
       "      <td>Karnātaka</td>\n",
       "      <td>NaN</td>\n",
       "      <td>654055</td>\n",
       "      <td>319550</td>\n",
       "    </tr>\n",
       "    <tr>\n",
       "      <td>5</td>\n",
       "      <td>Belgaum</td>\n",
       "      <td>15.862643</td>\n",
       "      <td>74.508534</td>\n",
       "      <td>India</td>\n",
       "      <td>IN</td>\n",
       "      <td>Karnātaka</td>\n",
       "      <td>NaN</td>\n",
       "      <td>608756</td>\n",
       "      <td>610189</td>\n",
       "    </tr>\n",
       "    <tr>\n",
       "      <td>6</td>\n",
       "      <td>Davangere</td>\n",
       "      <td>14.469237</td>\n",
       "      <td>75.923750</td>\n",
       "      <td>India</td>\n",
       "      <td>IN</td>\n",
       "      <td>Karnātaka</td>\n",
       "      <td>NaN</td>\n",
       "      <td>503564</td>\n",
       "      <td>435125</td>\n",
       "    </tr>\n",
       "    <tr>\n",
       "      <td>7</td>\n",
       "      <td>Gulbarga</td>\n",
       "      <td>17.335827</td>\n",
       "      <td>76.837570</td>\n",
       "      <td>India</td>\n",
       "      <td>IN</td>\n",
       "      <td>Karnātaka</td>\n",
       "      <td>NaN</td>\n",
       "      <td>483615</td>\n",
       "      <td>481478</td>\n",
       "    </tr>\n",
       "    <tr>\n",
       "      <td>8</td>\n",
       "      <td>Bellary</td>\n",
       "      <td>15.142049</td>\n",
       "      <td>76.923980</td>\n",
       "      <td>India</td>\n",
       "      <td>IN</td>\n",
       "      <td>Karnātaka</td>\n",
       "      <td>NaN</td>\n",
       "      <td>445388</td>\n",
       "      <td>336681</td>\n",
       "    </tr>\n",
       "    <tr>\n",
       "      <td>9</td>\n",
       "      <td>Tumkūr</td>\n",
       "      <td>13.341358</td>\n",
       "      <td>77.102203</td>\n",
       "      <td>India</td>\n",
       "      <td>IN</td>\n",
       "      <td>Karnātaka</td>\n",
       "      <td>NaN</td>\n",
       "      <td>399606</td>\n",
       "      <td>307359</td>\n",
       "    </tr>\n",
       "  </tbody>\n",
       "</table>\n",
       "</div>"
      ],
      "text/plain": [
       "        city        lat        lng country iso2      admin capital  \\\n",
       "0  Bengalūru  12.977063  77.587106   India   IN  Karnātaka   admin   \n",
       "1      Hubli  15.349955  75.138619   India   IN  Karnātaka     NaN   \n",
       "2     Mysore  12.292664  76.638543   India   IN  Karnātaka     NaN   \n",
       "3  Mangalore  12.865371  74.842432   India   IN  Karnātaka     NaN   \n",
       "4    Shimoga  13.932424  75.572555   India   IN  Karnātaka     NaN   \n",
       "5    Belgaum  15.862643  74.508534   India   IN  Karnātaka     NaN   \n",
       "6  Davangere  14.469237  75.923750   India   IN  Karnātaka     NaN   \n",
       "7   Gulbarga  17.335827  76.837570   India   IN  Karnātaka     NaN   \n",
       "8    Bellary  15.142049  76.923980   India   IN  Karnātaka     NaN   \n",
       "9     Tumkūr  13.341358  77.102203   India   IN  Karnātaka     NaN   \n",
       "\n",
       "   population  population_proper  \n",
       "0     6787000            5104047  \n",
       "1      890000             792804  \n",
       "2      887000             868313  \n",
       "3      776632             417387  \n",
       "4      654055             319550  \n",
       "5      608756             610189  \n",
       "6      503564             435125  \n",
       "7      483615             481478  \n",
       "8      445388             336681  \n",
       "9      399606             307359  "
      ]
     },
     "execution_count": 41,
     "metadata": {},
     "output_type": "execute_result"
    }
   ],
   "source": [
    "df4 = pd.read_csv('karnataka.csv')\n",
    "df4.head(10)"
   ]
  },
  {
   "cell_type": "code",
   "execution_count": 47,
   "metadata": {},
   "outputs": [
    {
     "data": {
      "text/html": [
       "<div style=\"width:100%;\"><div style=\"position:relative;width:100%;height:0;padding-bottom:60%;\"><iframe src=\"data:text/html;charset=utf-8;base64,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\" style=\"position:absolute;width:100%;height:100%;left:0;top:0;border:none !important;\" allowfullscreen webkitallowfullscreen mozallowfullscreen></iframe></div></div>"
      ],
      "text/plain": [
       "<folium.folium.Map at 0x7f027cb7e390>"
      ]
     },
     "execution_count": 47,
     "metadata": {},
     "output_type": "execute_result"
    }
   ],
   "source": [
    "locations = df4[['lat', 'lng']]\n",
    "locationlist = locations.values.tolist()\n",
    "locationlist = locationlist[:16]\n",
    "import folium\n",
    "def mapping(df,locationlist,a):\n",
    "    mapp = folium.Map(location=[15.862643,74.508534],zoom_start=13)\n",
    "    for point in range(0,a):\n",
    "        folium.Marker(locationlist[point], popup=df['city'][point]).add_to(mapp)\n",
    "    folium.PolyLine(locationlist, color=\"red\", weight=2.5, opacity=1).add_to(mapp)\n",
    "    return mapp\n",
    "mapping(df4,locationlist,a=16)"
   ]
  },
  {
   "cell_type": "code",
   "execution_count": 48,
   "metadata": {},
   "outputs": [
    {
     "name": "stdout",
     "output_type": "stream",
     "text": [
      "[(12.977063000000001,77.587106), (15.349955,75.13861899999999), (12.292664,76.638543), (12.865371000000001,74.84243199999999), (13.932424,75.57255500000001), (15.862642999999998,74.508534), (14.469237,75.92375), (17.335827,76.83757), (15.142048999999998,76.92398), (13.341358,77.102203), (17.913308999999998,77.530105), (15.269537,76.387103), (12.545602,76.895078), (16.827714999999998,75.718988), (16.205459,77.35566999999999), (13.137679,78.129989)]\n",
      "Initial distance: 29.444813656547076\n",
      "Final distance: 17.704789985453942\n"
     ]
    }
   ],
   "source": [
    "empttylist=[]\n",
    "new = df3.iloc[:16,[1,2]]\n",
    "for i in new.values:\n",
    "    empttylist.append(City(i[0],i[1]))\n",
    "print(empttylist)\n",
    "bestroute = geneticAlgorithm(population=empttylist, popSize=100, eliteSize=20, mutationRate=0.01, generations=500)\n"
   ]
  },
  {
   "cell_type": "code",
   "execution_count": 49,
   "metadata": {},
   "outputs": [
    {
     "data": {
      "text/html": [
       "<div style=\"width:100%;\"><div style=\"position:relative;width:100%;height:0;padding-bottom:60%;\"><iframe src=\"data:text/html;charset=utf-8;base64,PCFET0NUWVBFIGh0bWw+CjxoZWFkPiAgICAKICAgIDxtZXRhIGh0dHAtZXF1aXY9ImNvbnRlbnQtdHlwZSIgY29udGVudD0idGV4dC9odG1sOyBjaGFyc2V0PVVURi04IiAvPgogICAgPHNjcmlwdD5MX1BSRUZFUl9DQU5WQVMgPSBmYWxzZTsgTF9OT19UT1VDSCA9IGZhbHNlOyBMX0RJU0FCTEVfM0QgPSBmYWxzZTs8L3NjcmlwdD4KICAgIDxzY3JpcHQgc3JjPSJodHRwczovL2Nkbi5qc2RlbGl2ci5uZXQvbnBtL2xlYWZsZXRAMS4yLjAvZGlzdC9sZWFmbGV0LmpzIj48L3NjcmlwdD4KICAgIDxzY3JpcHQgc3JjPSJodHRwczovL2FqYXguZ29vZ2xlYXBpcy5jb20vYWpheC9saWJzL2pxdWVyeS8xLjExLjEvanF1ZXJ5Lm1pbi5qcyI+PC9zY3JpcHQ+CiAgICA8c2NyaXB0IHNyYz0iaHR0cHM6Ly9tYXhjZG4uYm9vdHN0cmFwY2RuLmNvbS9ib290c3RyYXAvMy4yLjAvanMvYm9vdHN0cmFwLm1pbi5qcyI+PC9zY3JpcHQ+CiAgICA8c2NyaXB0IHNyYz0iaHR0cHM6Ly9jZG5qcy5jbG91ZGZsYXJlLmNvbS9hamF4L2xpYnMvTGVhZmxldC5hd2Vzb21lLW1hcmtlcnMvMi4wLjIvbGVhZmxldC5hd2Vzb21lLW1hcmtlcnMuanMiPjwvc2NyaXB0PgogICAgPGxpbmsgcmVsPSJzdHlsZXNoZWV0IiBocmVmPSJodHRwczovL2Nkbi5qc2RlbGl2ci5uZXQvbnBtL2xlYWZsZXRAMS4yLjAvZGlzdC9sZWFmbGV0LmNzcyIvPgogICAgPGxpbmsgcmVsPSJzdHlsZXNoZWV0IiBocmVmPSJodHRwczovL21heGNkbi5ib290c3RyYXBjZG4uY29tL2Jvb3RzdHJhcC8zLjIuMC9jc3MvYm9vdHN0cmFwLm1pbi5jc3MiLz4KICAgIDxsaW5rIHJlbD0ic3R5bGVzaGVldCIgaHJlZj0iaHR0cHM6Ly9tYXhjZG4uYm9vdHN0cmFwY2RuLmNvbS9ib290c3RyYXAvMy4yLjAvY3NzL2Jvb3RzdHJhcC10aGVtZS5taW4uY3NzIi8+CiAgICA8bGluayByZWw9InN0eWxlc2hlZXQiIGhyZWY9Imh0dHBzOi8vbWF4Y2RuLmJvb3RzdHJhcGNkbi5jb20vZm9udC1hd2Vzb21lLzQuNi4zL2Nzcy9mb250LWF3ZXNvbWUubWluLmNzcyIvPgogICAgPGxpbmsgcmVsPSJzdHlsZXNoZWV0IiBocmVmPSJodHRwczovL2NkbmpzLmNsb3VkZmxhcmUuY29tL2FqYXgvbGlicy9MZWFmbGV0LmF3ZXNvbWUtbWFya2Vycy8yLjAuMi9sZWFmbGV0LmF3ZXNvbWUtbWFya2Vycy5jc3MiLz4KICAgIDxsaW5rIHJlbD0ic3R5bGVzaGVldCIgaHJlZj0iaHR0cHM6Ly9yYXdnaXQuY29tL3B5dGhvbi12aXN1YWxpemF0aW9uL2ZvbGl1bS9tYXN0ZXIvZm9saXVtL3RlbXBsYXRlcy9sZWFmbGV0LmF3ZXNvbWUucm90YXRlLmNzcyIvPgogICAgPHN0eWxlPmh0bWwsIGJvZHkge3dpZHRoOiAxMDAlO2hlaWdodDogMTAwJTttYXJnaW46IDA7cGFkZGluZzogMDt9PC9zdHlsZT4KICAgIDxzdHlsZT4jbWFwIHtwb3NpdGlvbjphYnNvbHV0ZTt0b3A6MDtib3R0b206MDtyaWdodDowO2xlZnQ6MDt9PC9zdHlsZT4KICAgIAogICAgICAgICAgICA8c3R5bGU+ICNtYXBfZGQ3MTYwNTEyYmY4NDE4ODkyZmQxNTg3YjBhZDU1ZmQgewogICAgICAgICAgICAgICAgcG9zaXRpb24gOiByZWxhdGl2ZTsKICAgICAgICAgICAgICAgIHdpZHRoIDogMTAwLjAlOwogICAgICAgICAgICAgICAgaGVpZ2h0OiAxMDAuMCU7CiAgICAgICAgICAgICAgICBsZWZ0OiAwLjAlOwogICAgICAgICAgICAgICAgdG9wOiAwLjAlOwogICAgICAgICAgICAgICAgfQogICAgICAgICAgICA8L3N0eWxlPgogICAgICAgIAo8L2hlYWQ+Cjxib2R5PiAgICAKICAgIAogICAgICAgICAgICA8ZGl2IGNsYXNzPSJmb2xpdW0tbWFwIiBpZD0ibWFwX2RkNzE2MDUxMmJmODQxODg5MmZkMTU4N2IwYWQ1NWZkIiA+PC9kaXY+CiAgICAgICAgCjwvYm9keT4KPHNjcmlwdD4gICAgCiAgICAKCiAgICAgICAgICAgIAogICAgICAgICAgICAgICAgdmFyIGJvdW5kcyA9IG51bGw7CiAgICAgICAgICAgIAoKICAgICAgICAgICAgdmFyIG1hcF9kZDcxNjA1MTJiZjg0MTg4OTJmZDE1ODdiMGFkNTVmZCA9IEwubWFwKAogICAgICAgICAgICAgICAgICAgICAgICAgICAgICAgICAgJ21hcF9kZDcxNjA1MTJiZjg0MTg4OTJmZDE1ODdiMGFkNTVmZCcsCiAgICAgICAgICAgICAgICAgICAgICAgICAgICAgICAgICB7Y2VudGVyOiBbMTUuODYyNjQzLDc0LjUwODUzNF0sCiAgICAgICAgICAgICAgICAgICAgICAgICAgICAgICAgICB6b29tOiAxMywKICAgICAgICAgICAgICAgICAgICAgICAgICAgICAgICAgIG1heEJvdW5kczogYm91bmRzLAogICAgICAgICAgICAgICAgICAgICAgICAgICAgICAgICAgbGF5ZXJzOiBbXSwKICAgICAgICAgICAgICAgICAgICAgICAgICAgICAgICAgIHdvcmxkQ29weUp1bXA6IGZhbHNlLAogICAgICAgICAgICAgICAgICAgICAgICAgICAgICAgICAgY3JzOiBMLkNSUy5FUFNHMzg1NwogICAgICAgICAgICAgICAgICAgICAgICAgICAgICAgICB9KTsKICAgICAgICAgICAgCiAgICAgICAgCiAgICAKICAgICAgICAgICAgdmFyIHRpbGVfbGF5ZXJfMDdiNWFjNDAxNzNjNDVmYWE3NDIyZmY4OTQzOTRlOWEgPSBMLnRpbGVMYXllcigKICAgICAgICAgICAgICAgICdodHRwczovL3tzfS50aWxlLm9wZW5zdHJlZXRtYXAub3JnL3t6fS97eH0ve3l9LnBuZycsCiAgICAgICAgICAgICAgICB7CiAgImF0dHJpYnV0aW9uIjogbnVsbCwKICAiZGV0ZWN0UmV0aW5hIjogZmFsc2UsCiAgIm1heFpvb20iOiAxOCwKICAibWluWm9vbSI6IDEsCiAgIm5vV3JhcCI6IGZhbHNlLAogICJzdWJkb21haW5zIjogImFiYyIKfQogICAgICAgICAgICAgICAgKS5hZGRUbyhtYXBfZGQ3MTYwNTEyYmY4NDE4ODkyZmQxNTg3YjBhZDU1ZmQpOwogICAgICAgIAogICAgCgogICAgICAgICAgICB2YXIgbWFya2VyXzQ1Yzk4MzY2MTJiNzQ3MjA5N2QzYThlMDZhOWVlNWVkID0gTC5tYXJrZXIoCiAgICAgICAgICAgICAgICBbMTcuMzM1ODI3LDc2LjgzNzU3XSwKICAgICAgICAgICAgICAgIHsKICAgICAgICAgICAgICAgICAgICBpY29uOiBuZXcgTC5JY29uLkRlZmF1bHQoKQogICAgICAgICAgICAgICAgICAgIH0KICAgICAgICAgICAgICAgICkKICAgICAgICAgICAgICAgIC5hZGRUbyhtYXBfZGQ3MTYwNTEyYmY4NDE4ODkyZmQxNTg3YjBhZDU1ZmQpOwogICAgICAgICAgICAKICAgIAogICAgICAgICAgICB2YXIgcG9wdXBfNWU3ZGEwNTU0NWU3NDg4MGI1MGYzZjk3NWMwMzE5OWMgPSBMLnBvcHVwKHttYXhXaWR0aDogJzMwMCd9KTsKCiAgICAgICAgICAgIAogICAgICAgICAgICAgICAgdmFyIGh0bWxfMWVkNjZmMmRkOWI2NDc5NWE3ODFhYjJlMjZiY2YzNmEgPSAkKCc8ZGl2IGlkPSJodG1sXzFlZDY2ZjJkZDliNjQ3OTVhNzgxYWIyZTI2YmNmMzZhIiBzdHlsZT0id2lkdGg6IDEwMC4wJTsgaGVpZ2h0OiAxMDAuMCU7Ij5CZW5nYWzFq3J1PC9kaXY+JylbMF07CiAgICAgICAgICAgICAgICBwb3B1cF81ZTdkYTA1NTQ1ZTc0ODgwYjUwZjNmOTc1YzAzMTk5Yy5zZXRDb250ZW50KGh0bWxfMWVkNjZmMmRkOWI2NDc5NWE3ODFhYjJlMjZiY2YzNmEpOwogICAgICAgICAgICAKCiAgICAgICAgICAgIG1hcmtlcl80NWM5ODM2NjEyYjc0NzIwOTdkM2E4ZTA2YTllZTVlZC5iaW5kUG9wdXAocG9wdXBfNWU3ZGEwNTU0NWU3NDg4MGI1MGYzZjk3NWMwMzE5OWMpOwoKICAgICAgICAgICAgCiAgICAgICAgCiAgICAKCiAgICAgICAgICAgIHZhciBtYXJrZXJfNDdlOGZhZmY5ZTdhNDk1ODkwNWE1ZWJmMGUxYWRmMjQgPSBMLm1hcmtlcigKICAgICAgICAgICAgICAgIFsxNy45MTMzMDg5OTk5OTk5OTgsNzcuNTMwMTA1XSwKICAgICAgICAgICAgICAgIHsKICAgICAgICAgICAgICAgICAgICBpY29uOiBuZXcgTC5JY29uLkRlZmF1bHQoKQogICAgICAgICAgICAgICAgICAgIH0KICAgICAgICAgICAgICAgICkKICAgICAgICAgICAgICAgIC5hZGRUbyhtYXBfZGQ3MTYwNTEyYmY4NDE4ODkyZmQxNTg3YjBhZDU1ZmQpOwogICAgICAgICAgICAKICAgIAogICAgICAgICAgICB2YXIgcG9wdXBfMTJhNGU4M2E1NzU5NDFkNTlhZTg2OWNlZTRlOTJjNGEgPSBMLnBvcHVwKHttYXhXaWR0aDogJzMwMCd9KTsKCiAgICAgICAgICAgIAogICAgICAgICAgICAgICAgdmFyIGh0bWxfNmMwNjJiOWRjZTA4NDRlMjhmNjJmMmYzNzE5ZTEzNTggPSAkKCc8ZGl2IGlkPSJodG1sXzZjMDYyYjlkY2UwODQ0ZTI4ZjYyZjJmMzcxOWUxMzU4IiBzdHlsZT0id2lkdGg6IDEwMC4wJTsgaGVpZ2h0OiAxMDAuMCU7Ij5IdWJsaTwvZGl2PicpWzBdOwogICAgICAgICAgICAgICAgcG9wdXBfMTJhNGU4M2E1NzU5NDFkNTlhZTg2OWNlZTRlOTJjNGEuc2V0Q29udGVudChodG1sXzZjMDYyYjlkY2UwODQ0ZTI4ZjYyZjJmMzcxOWUxMzU4KTsKICAgICAgICAgICAgCgogICAgICAgICAgICBtYXJrZXJfNDdlOGZhZmY5ZTdhNDk1ODkwNWE1ZWJmMGUxYWRmMjQuYmluZFBvcHVwKHBvcHVwXzEyYTRlODNhNTc1OTQxZDU5YWU4NjljZWU0ZTkyYzRhKTsKCiAgICAgICAgICAgIAogICAgICAgIAogICAgCgogICAgICAgICAgICB2YXIgbWFya2VyXzk1MTg3ZDk0YWVjODQ2ZjBiZmQ5MjZjMjI1MGI5YWVhID0gTC5tYXJrZXIoCiAgICAgICAgICAgICAgICBbMTYuMjA1NDU5LDc3LjM1NTY2OTk5OTk5OTk5XSwKICAgICAgICAgICAgICAgIHsKICAgICAgICAgICAgICAgICAgICBpY29uOiBuZXcgTC5JY29uLkRlZmF1bHQoKQogICAgICAgICAgICAgICAgICAgIH0KICAgICAgICAgICAgICAgICkKICAgICAgICAgICAgICAgIC5hZGRUbyhtYXBfZGQ3MTYwNTEyYmY4NDE4ODkyZmQxNTg3YjBhZDU1ZmQpOwogICAgICAgICAgICAKICAgIAogICAgICAgICAgICB2YXIgcG9wdXBfODQ3OTIxZDQxNjY3NGVjOWJkN2E5ZWJkNTliMDNhNjMgPSBMLnBvcHVwKHttYXhXaWR0aDogJzMwMCd9KTsKCiAgICAgICAgICAgIAogICAgICAgICAgICAgICAgdmFyIGh0bWxfNjQyZWUwMjYyMWY4NGYxNWJlYTE3ZTJhNGIyNWUwMmEgPSAkKCc8ZGl2IGlkPSJodG1sXzY0MmVlMDI2MjFmODRmMTViZWExN2UyYTRiMjVlMDJhIiBzdHlsZT0id2lkdGg6IDEwMC4wJTsgaGVpZ2h0OiAxMDAuMCU7Ij5NeXNvcmU8L2Rpdj4nKVswXTsKICAgICAgICAgICAgICAgIHBvcHVwXzg0NzkyMWQ0MTY2NzRlYzliZDdhOWViZDU5YjAzYTYzLnNldENvbnRlbnQoaHRtbF82NDJlZTAyNjIxZjg0ZjE1YmVhMTdlMmE0YjI1ZTAyYSk7CiAgICAgICAgICAgIAoKICAgICAgICAgICAgbWFya2VyXzk1MTg3ZDk0YWVjODQ2ZjBiZmQ5MjZjMjI1MGI5YWVhLmJpbmRQb3B1cChwb3B1cF84NDc5MjFkNDE2Njc0ZWM5YmQ3YTllYmQ1OWIwM2E2Myk7CgogICAgICAgICAgICAKICAgICAgICAKICAgIAoKICAgICAgICAgICAgdmFyIG1hcmtlcl9iZmNjODZkYjc4ZWQ0NTcyYWNkZjYwZDdlNDhiODI0ZiA9IEwubWFya2VyKAogICAgICAgICAgICAgICAgWzE1LjI2OTUzNyw3Ni4zODcxMDNdLAogICAgICAgICAgICAgICAgewogICAgICAgICAgICAgICAgICAgIGljb246IG5ldyBMLkljb24uRGVmYXVsdCgpCiAgICAgICAgICAgICAgICAgICAgfQogICAgICAgICAgICAgICAgKQogICAgICAgICAgICAgICAgLmFkZFRvKG1hcF9kZDcxNjA1MTJiZjg0MTg4OTJmZDE1ODdiMGFkNTVmZCk7CiAgICAgICAgICAgIAogICAgCiAgICAgICAgICAgIHZhciBwb3B1cF81MzdkMGI5YzJmNzU0Mzc2OWMyM2JiMjJhNWZhMWMyNCA9IEwucG9wdXAoe21heFdpZHRoOiAnMzAwJ30pOwoKICAgICAgICAgICAgCiAgICAgICAgICAgICAgICB2YXIgaHRtbF84YTE2MDUyNWY0ZTI0Y2U2YjY0ODZkYWNhMDZmM2U5NSA9ICQoJzxkaXYgaWQ9Imh0bWxfOGExNjA1MjVmNGUyNGNlNmI2NDg2ZGFjYTA2ZjNlOTUiIHN0eWxlPSJ3aWR0aDogMTAwLjAlOyBoZWlnaHQ6IDEwMC4wJTsiPk1hbmdhbG9yZTwvZGl2PicpWzBdOwogICAgICAgICAgICAgICAgcG9wdXBfNTM3ZDBiOWMyZjc1NDM3NjljMjNiYjIyYTVmYTFjMjQuc2V0Q29udGVudChodG1sXzhhMTYwNTI1ZjRlMjRjZTZiNjQ4NmRhY2EwNmYzZTk1KTsKICAgICAgICAgICAgCgogICAgICAgICAgICBtYXJrZXJfYmZjYzg2ZGI3OGVkNDU3MmFjZGY2MGQ3ZTQ4YjgyNGYuYmluZFBvcHVwKHBvcHVwXzUzN2QwYjljMmY3NTQzNzY5YzIzYmIyMmE1ZmExYzI0KTsKCiAgICAgICAgICAgIAogICAgICAgIAogICAgCgogICAgICAgICAgICB2YXIgbWFya2VyXzQ4Yzc5NTYxNzgzOTQ1YTM5NjE0MzA2M2U1ZDM0Yzg1ID0gTC5tYXJrZXIoCiAgICAgICAgICAgICAgICBbMTUuMTQyMDQ4OTk5OTk5OTk4LDc2LjkyMzk4XSwKICAgICAgICAgICAgICAgIHsKICAgICAgICAgICAgICAgICAgICBpY29uOiBuZXcgTC5JY29uLkRlZmF1bHQoKQogICAgICAgICAgICAgICAgICAgIH0KICAgICAgICAgICAgICAgICkKICAgICAgICAgICAgICAgIC5hZGRUbyhtYXBfZGQ3MTYwNTEyYmY4NDE4ODkyZmQxNTg3YjBhZDU1ZmQpOwogICAgICAgICAgICAKICAgIAogICAgICAgICAgICB2YXIgcG9wdXBfODc0NDI1NGIxZDdlNDQxZWEwNzc2OTY1ODIzNDUwM2MgPSBMLnBvcHVwKHttYXhXaWR0aDogJzMwMCd9KTsKCiAgICAgICAgICAgIAogICAgICAgICAgICAgICAgdmFyIGh0bWxfYjM0N2MwZWZlZTIxNDc2ZTkxNDFmZGQ2Y2VhYWExYWUgPSAkKCc8ZGl2IGlkPSJodG1sX2IzNDdjMGVmZWUyMTQ3NmU5MTQxZmRkNmNlYWFhMWFlIiBzdHlsZT0id2lkdGg6IDEwMC4wJTsgaGVpZ2h0OiAxMDAuMCU7Ij5TaGltb2dhPC9kaXY+JylbMF07CiAgICAgICAgICAgICAgICBwb3B1cF84NzQ0MjU0YjFkN2U0NDFlYTA3NzY5NjU4MjM0NTAzYy5zZXRDb250ZW50KGh0bWxfYjM0N2MwZWZlZTIxNDc2ZTkxNDFmZGQ2Y2VhYWExYWUpOwogICAgICAgICAgICAKCiAgICAgICAgICAgIG1hcmtlcl80OGM3OTU2MTc4Mzk0NWEzOTYxNDMwNjNlNWQzNGM4NS5iaW5kUG9wdXAocG9wdXBfODc0NDI1NGIxZDdlNDQxZWEwNzc2OTY1ODIzNDUwM2MpOwoKICAgICAgICAgICAgCiAgICAgICAgCiAgICAKCiAgICAgICAgICAgIHZhciBtYXJrZXJfZWRkNDU3NGMwYTQ1NGMxZGE2ODE5YzZkZjI2ZmE1YzQgPSBMLm1hcmtlcigKICAgICAgICAgICAgICAgIFsxMy4zNDEzNTgsNzcuMTAyMjAzXSwKICAgICAgICAgICAgICAgIHsKICAgICAgICAgICAgICAgICAgICBpY29uOiBuZXcgTC5JY29uLkRlZmF1bHQoKQogICAgICAgICAgICAgICAgICAgIH0KICAgICAgICAgICAgICAgICkKICAgICAgICAgICAgICAgIC5hZGRUbyhtYXBfZGQ3MTYwNTEyYmY4NDE4ODkyZmQxNTg3YjBhZDU1ZmQpOwogICAgICAgICAgICAKICAgIAogICAgICAgICAgICB2YXIgcG9wdXBfMmEzYjYyZjkxZTcxNDc0NGIzMTE0YzlmYTI0NWUyM2YgPSBMLnBvcHVwKHttYXhXaWR0aDogJzMwMCd9KTsKCiAgICAgICAgICAgIAogICAgICAgICAgICAgICAgdmFyIGh0bWxfZDI0OTcxZmJiMmUyNDkxMTkwNDNjYzUwODhjYjA2MTggPSAkKCc8ZGl2IGlkPSJodG1sX2QyNDk3MWZiYjJlMjQ5MTE5MDQzY2M1MDg4Y2IwNjE4IiBzdHlsZT0id2lkdGg6IDEwMC4wJTsgaGVpZ2h0OiAxMDAuMCU7Ij5CZWxnYXVtPC9kaXY+JylbMF07CiAgICAgICAgICAgICAgICBwb3B1cF8yYTNiNjJmOTFlNzE0NzQ0YjMxMTRjOWZhMjQ1ZTIzZi5zZXRDb250ZW50KGh0bWxfZDI0OTcxZmJiMmUyNDkxMTkwNDNjYzUwODhjYjA2MTgpOwogICAgICAgICAgICAKCiAgICAgICAgICAgIG1hcmtlcl9lZGQ0NTc0YzBhNDU0YzFkYTY4MTljNmRmMjZmYTVjNC5iaW5kUG9wdXAocG9wdXBfMmEzYjYyZjkxZTcxNDc0NGIzMTE0YzlmYTI0NWUyM2YpOwoKICAgICAgICAgICAgCiAgICAgICAgCiAgICAKCiAgICAgICAgICAgIHZhciBtYXJrZXJfZWVhOTQ1Yzk1MDQxNDJkNjgxZDBkZWJiZDhmOGRkYzMgPSBMLm1hcmtlcigKICAgICAgICAgICAgICAgIFsxMy4xMzc2NzksNzguMTI5OTg5XSwKICAgICAgICAgICAgICAgIHsKICAgICAgICAgICAgICAgICAgICBpY29uOiBuZXcgTC5JY29uLkRlZmF1bHQoKQogICAgICAgICAgICAgICAgICAgIH0KICAgICAgICAgICAgICAgICkKICAgICAgICAgICAgICAgIC5hZGRUbyhtYXBfZGQ3MTYwNTEyYmY4NDE4ODkyZmQxNTg3YjBhZDU1ZmQpOwogICAgICAgICAgICAKICAgIAogICAgICAgICAgICB2YXIgcG9wdXBfYzAzNmVmZTM1MThmNDM3YmI4YzgzOGNhMDVkN2Q5NDkgPSBMLnBvcHVwKHttYXhXaWR0aDogJzMwMCd9KTsKCiAgICAgICAgICAgIAogICAgICAgICAgICAgICAgdmFyIGh0bWxfZjM0MTMwYjE0MjY1NDc2MThmOGRmNWNkYWE3YTVjNzQgPSAkKCc8ZGl2IGlkPSJodG1sX2YzNDEzMGIxNDI2NTQ3NjE4ZjhkZjVjZGFhN2E1Yzc0IiBzdHlsZT0id2lkdGg6IDEwMC4wJTsgaGVpZ2h0OiAxMDAuMCU7Ij5EYXZhbmdlcmU8L2Rpdj4nKVswXTsKICAgICAgICAgICAgICAgIHBvcHVwX2MwMzZlZmUzNTE4ZjQzN2JiOGM4MzhjYTA1ZDdkOTQ5LnNldENvbnRlbnQoaHRtbF9mMzQxMzBiMTQyNjU0NzYxOGY4ZGY1Y2RhYTdhNWM3NCk7CiAgICAgICAgICAgIAoKICAgICAgICAgICAgbWFya2VyX2VlYTk0NWM5NTA0MTQyZDY4MWQwZGViYmQ4ZjhkZGMzLmJpbmRQb3B1cChwb3B1cF9jMDM2ZWZlMzUxOGY0MzdiYjhjODM4Y2EwNWQ3ZDk0OSk7CgogICAgICAgICAgICAKICAgICAgICAKICAgIAoKICAgICAgICAgICAgdmFyIG1hcmtlcl9kMmI4NTZiYTZlNDI0YjRhYmM4MGFjYWNkZjRjOWI4OSA9IEwubWFya2VyKAogICAgICAgICAgICAgICAgWzEyLjk3NzA2MzAwMDAwMDAwMSw3Ny41ODcxMDZdLAogICAgICAgICAgICAgICAgewogICAgICAgICAgICAgICAgICAgIGljb246IG5ldyBMLkljb24uRGVmYXVsdCgpCiAgICAgICAgICAgICAgICAgICAgfQogICAgICAgICAgICAgICAgKQogICAgICAgICAgICAgICAgLmFkZFRvKG1hcF9kZDcxNjA1MTJiZjg0MTg4OTJmZDE1ODdiMGFkNTVmZCk7CiAgICAgICAgICAgIAogICAgCiAgICAgICAgICAgIHZhciBwb3B1cF9mMzUyZmZmOWM5YmQ0YjZkYWY1MzRiZGI2NjI0OTBjMyA9IEwucG9wdXAoe21heFdpZHRoOiAnMzAwJ30pOwoKICAgICAgICAgICAgCiAgICAgICAgICAgICAgICB2YXIgaHRtbF8wYWZhMzFhNDEwM2E0MTkzYmM5ZjUxMGU0NzQ4YTA1MCA9ICQoJzxkaXYgaWQ9Imh0bWxfMGFmYTMxYTQxMDNhNDE5M2JjOWY1MTBlNDc0OGEwNTAiIHN0eWxlPSJ3aWR0aDogMTAwLjAlOyBoZWlnaHQ6IDEwMC4wJTsiPkd1bGJhcmdhPC9kaXY+JylbMF07CiAgICAgICAgICAgICAgICBwb3B1cF9mMzUyZmZmOWM5YmQ0YjZkYWY1MzRiZGI2NjI0OTBjMy5zZXRDb250ZW50KGh0bWxfMGFmYTMxYTQxMDNhNDE5M2JjOWY1MTBlNDc0OGEwNTApOwogICAgICAgICAgICAKCiAgICAgICAgICAgIG1hcmtlcl9kMmI4NTZiYTZlNDI0YjRhYmM4MGFjYWNkZjRjOWI4OS5iaW5kUG9wdXAocG9wdXBfZjM1MmZmZjljOWJkNGI2ZGFmNTM0YmRiNjYyNDkwYzMpOwoKICAgICAgICAgICAgCiAgICAgICAgCiAgICAKCiAgICAgICAgICAgIHZhciBtYXJrZXJfODc0MDJmMDU4NzY4NDdiZDliMWFlY2RiODM3NDg1NTcgPSBMLm1hcmtlcigKICAgICAgICAgICAgICAgIFsxMi41NDU2MDIsNzYuODk1MDc4XSwKICAgICAgICAgICAgICAgIHsKICAgICAgICAgICAgICAgICAgICBpY29uOiBuZXcgTC5JY29uLkRlZmF1bHQoKQogICAgICAgICAgICAgICAgICAgIH0KICAgICAgICAgICAgICAgICkKICAgICAgICAgICAgICAgIC5hZGRUbyhtYXBfZGQ3MTYwNTEyYmY4NDE4ODkyZmQxNTg3YjBhZDU1ZmQpOwogICAgICAgICAgICAKICAgIAogICAgICAgICAgICB2YXIgcG9wdXBfMzk4ZWYwN2NhOTM2NGExYWE3ZjE0ZjgyOGYwMTVlODIgPSBMLnBvcHVwKHttYXhXaWR0aDogJzMwMCd9KTsKCiAgICAgICAgICAgIAogICAgICAgICAgICAgICAgdmFyIGh0bWxfODU0ZTAwYWJlNzdlNGY5OGJjMjhkMDM0MjA5NTQzZTggPSAkKCc8ZGl2IGlkPSJodG1sXzg1NGUwMGFiZTc3ZTRmOThiYzI4ZDAzNDIwOTU0M2U4IiBzdHlsZT0id2lkdGg6IDEwMC4wJTsgaGVpZ2h0OiAxMDAuMCU7Ij5CZWxsYXJ5PC9kaXY+JylbMF07CiAgICAgICAgICAgICAgICBwb3B1cF8zOThlZjA3Y2E5MzY0YTFhYTdmMTRmODI4ZjAxNWU4Mi5zZXRDb250ZW50KGh0bWxfODU0ZTAwYWJlNzdlNGY5OGJjMjhkMDM0MjA5NTQzZTgpOwogICAgICAgICAgICAKCiAgICAgICAgICAgIG1hcmtlcl84NzQwMmYwNTg3Njg0N2JkOWIxYWVjZGI4Mzc0ODU1Ny5iaW5kUG9wdXAocG9wdXBfMzk4ZWYwN2NhOTM2NGExYWE3ZjE0ZjgyOGYwMTVlODIpOwoKICAgICAgICAgICAgCiAgICAgICAgCiAgICAKCiAgICAgICAgICAgIHZhciBtYXJrZXJfMTA3NmU3YzI5ZDA1NGZkMWIyNWRjYTRmOGRkZTEwNDUgPSBMLm1hcmtlcigKICAgICAgICAgICAgICAgIFsxMi4yOTI2NjQsNzYuNjM4NTQzXSwKICAgICAgICAgICAgICAgIHsKICAgICAgICAgICAgICAgICAgICBpY29uOiBuZXcgTC5JY29uLkRlZmF1bHQoKQogICAgICAgICAgICAgICAgICAgIH0KICAgICAgICAgICAgICAgICkKICAgICAgICAgICAgICAgIC5hZGRUbyhtYXBfZGQ3MTYwNTEyYmY4NDE4ODkyZmQxNTg3YjBhZDU1ZmQpOwogICAgICAgICAgICAKICAgIAogICAgICAgICAgICB2YXIgcG9wdXBfZWUyNjJlNjZjNGY5NGYyOGE5NTVlZmRhZGZlZTg2MGUgPSBMLnBvcHVwKHttYXhXaWR0aDogJzMwMCd9KTsKCiAgICAgICAgICAgIAogICAgICAgICAgICAgICAgdmFyIGh0bWxfMTlkYmRmNTIxZDQwNDJhZGI4MDA2YzI5NGU2YmFlYWIgPSAkKCc8ZGl2IGlkPSJodG1sXzE5ZGJkZjUyMWQ0MDQyYWRiODAwNmMyOTRlNmJhZWFiIiBzdHlsZT0id2lkdGg6IDEwMC4wJTsgaGVpZ2h0OiAxMDAuMCU7Ij5UdW1rxatyPC9kaXY+JylbMF07CiAgICAgICAgICAgICAgICBwb3B1cF9lZTI2MmU2NmM0Zjk0ZjI4YTk1NWVmZGFkZmVlODYwZS5zZXRDb250ZW50KGh0bWxfMTlkYmRmNTIxZDQwNDJhZGI4MDA2YzI5NGU2YmFlYWIpOwogICAgICAgICAgICAKCiAgICAgICAgICAgIG1hcmtlcl8xMDc2ZTdjMjlkMDU0ZmQxYjI1ZGNhNGY4ZGRlMTA0NS5iaW5kUG9wdXAocG9wdXBfZWUyNjJlNjZjNGY5NGYyOGE5NTVlZmRhZGZlZTg2MGUpOwoKICAgICAgICAgICAgCiAgICAgICAgCiAgICAKCiAgICAgICAgICAgIHZhciBtYXJrZXJfYzlkMWI0ZThjNmVlNDM1Y2EwN2NkZTJkOWNiNTcwNmYgPSBMLm1hcmtlcigKICAgICAgICAgICAgICAgIFsxMi44NjUzNzEwMDAwMDAwMDEsNzQuODQyNDMxOTk5OTk5OTldLAogICAgICAgICAgICAgICAgewogICAgICAgICAgICAgICAgICAgIGljb246IG5ldyBMLkljb24uRGVmYXVsdCgpCiAgICAgICAgICAgICAgICAgICAgfQogICAgICAgICAgICAgICAgKQogICAgICAgICAgICAgICAgLmFkZFRvKG1hcF9kZDcxNjA1MTJiZjg0MTg4OTJmZDE1ODdiMGFkNTVmZCk7CiAgICAgICAgICAgIAogICAgCiAgICAgICAgICAgIHZhciBwb3B1cF9jMTM3MDgyNTFhNjc0MWMyOWE2ODhjODgyZDk0OGJkZSA9IEwucG9wdXAoe21heFdpZHRoOiAnMzAwJ30pOwoKICAgICAgICAgICAgCiAgICAgICAgICAgICAgICB2YXIgaHRtbF9mN2ZiY2JhZjNkNjc0MDYzYmNjMGVlYjQwYWE3ZDI3OSA9ICQoJzxkaXYgaWQ9Imh0bWxfZjdmYmNiYWYzZDY3NDA2M2JjYzBlZWI0MGFhN2QyNzkiIHN0eWxlPSJ3aWR0aDogMTAwLjAlOyBoZWlnaHQ6IDEwMC4wJTsiPkLEq2RhcjwvZGl2PicpWzBdOwogICAgICAgICAgICAgICAgcG9wdXBfYzEzNzA4MjUxYTY3NDFjMjlhNjg4Yzg4MmQ5NDhiZGUuc2V0Q29udGVudChodG1sX2Y3ZmJjYmFmM2Q2NzQwNjNiY2MwZWViNDBhYTdkMjc5KTsKICAgICAgICAgICAgCgogICAgICAgICAgICBtYXJrZXJfYzlkMWI0ZThjNmVlNDM1Y2EwN2NkZTJkOWNiNTcwNmYuYmluZFBvcHVwKHBvcHVwX2MxMzcwODI1MWE2NzQxYzI5YTY4OGM4ODJkOTQ4YmRlKTsKCiAgICAgICAgICAgIAogICAgICAgIAogICAgCgogICAgICAgICAgICB2YXIgbWFya2VyXzEwYzc2MTJjMWI2ZDRlMTNhMmE0YzdjNjc0ZWNiMDRhID0gTC5tYXJrZXIoCiAgICAgICAgICAgICAgICBbMTMuOTMyNDI0LDc1LjU3MjU1NTAwMDAwMDAxXSwKICAgICAgICAgICAgICAgIHsKICAgICAgICAgICAgICAgICAgICBpY29uOiBuZXcgTC5JY29uLkRlZmF1bHQoKQogICAgICAgICAgICAgICAgICAgIH0KICAgICAgICAgICAgICAgICkKICAgICAgICAgICAgICAgIC5hZGRUbyhtYXBfZGQ3MTYwNTEyYmY4NDE4ODkyZmQxNTg3YjBhZDU1ZmQpOwogICAgICAgICAgICAKICAgIAogICAgICAgICAgICB2YXIgcG9wdXBfMDRjMGVjYTJjNTYyNGNlOWExODU4ZmExYzZkYmM1YWEgPSBMLnBvcHVwKHttYXhXaWR0aDogJzMwMCd9KTsKCiAgICAgICAgICAgIAogICAgICAgICAgICAgICAgdmFyIGh0bWxfMjJhMDZjNDJhMTM5NGI5YjgyMDdlYjY1M2FkYzkxNzEgPSAkKCc8ZGl2IGlkPSJodG1sXzIyYTA2YzQyYTEzOTRiOWI4MjA3ZWI2NTNhZGM5MTcxIiBzdHlsZT0id2lkdGg6IDEwMC4wJTsgaGVpZ2h0OiAxMDAuMCU7Ij5Ib3NwZXQ8L2Rpdj4nKVswXTsKICAgICAgICAgICAgICAgIHBvcHVwXzA0YzBlY2EyYzU2MjRjZTlhMTg1OGZhMWM2ZGJjNWFhLnNldENvbnRlbnQoaHRtbF8yMmEwNmM0MmExMzk0YjliODIwN2ViNjUzYWRjOTE3MSk7CiAgICAgICAgICAgIAoKICAgICAgICAgICAgbWFya2VyXzEwYzc2MTJjMWI2ZDRlMTNhMmE0YzdjNjc0ZWNiMDRhLmJpbmRQb3B1cChwb3B1cF8wNGMwZWNhMmM1NjI0Y2U5YTE4NThmYTFjNmRiYzVhYSk7CgogICAgICAgICAgICAKICAgICAgICAKICAgIAoKICAgICAgICAgICAgdmFyIG1hcmtlcl9kZTdlZGRlOTQ3MjU0MjEzOWZkY2U5M2MxOTM4ZjQ2MyA9IEwubWFya2VyKAogICAgICAgICAgICAgICAgWzE0LjQ2OTIzNyw3NS45MjM3NV0sCiAgICAgICAgICAgICAgICB7CiAgICAgICAgICAgICAgICAgICAgaWNvbjogbmV3IEwuSWNvbi5EZWZhdWx0KCkKICAgICAgICAgICAgICAgICAgICB9CiAgICAgICAgICAgICAgICApCiAgICAgICAgICAgICAgICAuYWRkVG8obWFwX2RkNzE2MDUxMmJmODQxODg5MmZkMTU4N2IwYWQ1NWZkKTsKICAgICAgICAgICAgCiAgICAKICAgICAgICAgICAgdmFyIHBvcHVwXzY0NWJmMDk5ZWYyMTQyMGViMmY0YTNlMzIxMGU5MzcxID0gTC5wb3B1cCh7bWF4V2lkdGg6ICczMDAnfSk7CgogICAgICAgICAgICAKICAgICAgICAgICAgICAgIHZhciBodG1sXzNiY2FkZjYyNDJkMjQzMDI5MjUwNDQ2NTRiMzlmY2U0ID0gJCgnPGRpdiBpZD0iaHRtbF8zYmNhZGY2MjQyZDI0MzAyOTI1MDQ0NjU0YjM5ZmNlNCIgc3R5bGU9IndpZHRoOiAxMDAuMCU7IGhlaWdodDogMTAwLjAlOyI+Q2hpa2thIE1hbmR5YTwvZGl2PicpWzBdOwogICAgICAgICAgICAgICAgcG9wdXBfNjQ1YmYwOTllZjIxNDIwZWIyZjRhM2UzMjEwZTkzNzEuc2V0Q29udGVudChodG1sXzNiY2FkZjYyNDJkMjQzMDI5MjUwNDQ2NTRiMzlmY2U0KTsKICAgICAgICAgICAgCgogICAgICAgICAgICBtYXJrZXJfZGU3ZWRkZTk0NzI1NDIxMzlmZGNlOTNjMTkzOGY0NjMuYmluZFBvcHVwKHBvcHVwXzY0NWJmMDk5ZWYyMTQyMGViMmY0YTNlMzIxMGU5MzcxKTsKCiAgICAgICAgICAgIAogICAgICAgIAogICAgCgogICAgICAgICAgICB2YXIgbWFya2VyX2I5YjZmNmU1ZDk2MDQ5NzI5ZGYyN2ZkNmI5MGJlNGQ4ID0gTC5tYXJrZXIoCiAgICAgICAgICAgICAgICBbMTUuMzQ5OTU1LDc1LjEzODYxODk5OTk5OTk5XSwKICAgICAgICAgICAgICAgIHsKICAgICAgICAgICAgICAgICAgICBpY29uOiBuZXcgTC5JY29uLkRlZmF1bHQoKQogICAgICAgICAgICAgICAgICAgIH0KICAgICAgICAgICAgICAgICkKICAgICAgICAgICAgICAgIC5hZGRUbyhtYXBfZGQ3MTYwNTEyYmY4NDE4ODkyZmQxNTg3YjBhZDU1ZmQpOwogICAgICAgICAgICAKICAgIAogICAgICAgICAgICB2YXIgcG9wdXBfYWQzZTQyNWMzNDdkNDMxZmFlMTQ2YTM4YTk5NjU3MDMgPSBMLnBvcHVwKHttYXhXaWR0aDogJzMwMCd9KTsKCiAgICAgICAgICAgIAogICAgICAgICAgICAgICAgdmFyIGh0bWxfYzEzMjI0ZTUwYzBkNGFiMGIzMDExZDM5Mzg5ZTE3MmMgPSAkKCc8ZGl2IGlkPSJodG1sX2MxMzIyNGU1MGMwZDRhYjBiMzAxMWQzOTM4OWUxNzJjIiBzdHlsZT0id2lkdGg6IDEwMC4wJTsgaGVpZ2h0OiAxMDAuMCU7Ij5CaWrEgXB1cjwvZGl2PicpWzBdOwogICAgICAgICAgICAgICAgcG9wdXBfYWQzZTQyNWMzNDdkNDMxZmFlMTQ2YTM4YTk5NjU3MDMuc2V0Q29udGVudChodG1sX2MxMzIyNGU1MGMwZDRhYjBiMzAxMWQzOTM4OWUxNzJjKTsKICAgICAgICAgICAgCgogICAgICAgICAgICBtYXJrZXJfYjliNmY2ZTVkOTYwNDk3MjlkZjI3ZmQ2YjkwYmU0ZDguYmluZFBvcHVwKHBvcHVwX2FkM2U0MjVjMzQ3ZDQzMWZhZTE0NmEzOGE5OTY1NzAzKTsKCiAgICAgICAgICAgIAogICAgICAgIAogICAgCgogICAgICAgICAgICB2YXIgbWFya2VyX2YyNTIyNjNjYmI0MTQ0Mzc4MzUxMmI4MDZkMzE4MTE4ID0gTC5tYXJrZXIoCiAgICAgICAgICAgICAgICBbMTUuODYyNjQyOTk5OTk5OTk4LDc0LjUwODUzNF0sCiAgICAgICAgICAgICAgICB7CiAgICAgICAgICAgICAgICAgICAgaWNvbjogbmV3IEwuSWNvbi5EZWZhdWx0KCkKICAgICAgICAgICAgICAgICAgICB9CiAgICAgICAgICAgICAgICApCiAgICAgICAgICAgICAgICAuYWRkVG8obWFwX2RkNzE2MDUxMmJmODQxODg5MmZkMTU4N2IwYWQ1NWZkKTsKICAgICAgICAgICAgCiAgICAKICAgICAgICAgICAgdmFyIHBvcHVwXzYzMmEyNjQ4MjQ5ODQ0OGNhZTljMTExZWVhN2ZjOGQzID0gTC5wb3B1cCh7bWF4V2lkdGg6ICczMDAnfSk7CgogICAgICAgICAgICAKICAgICAgICAgICAgICAgIHZhciBodG1sX2RhM2QyMjJlZGM1NTQwMmZhNDhlYzVhNWY0ZjJmMWU1ID0gJCgnPGRpdiBpZD0iaHRtbF9kYTNkMjIyZWRjNTU0MDJmYTQ4ZWM1YTVmNGYyZjFlNSIgc3R5bGU9IndpZHRoOiAxMDAuMCU7IGhlaWdodDogMTAwLjAlOyI+UsSBaWNoxatyPC9kaXY+JylbMF07CiAgICAgICAgICAgICAgICBwb3B1cF82MzJhMjY0ODI0OTg0NDhjYWU5YzExMWVlYTdmYzhkMy5zZXRDb250ZW50KGh0bWxfZGEzZDIyMmVkYzU1NDAyZmE0OGVjNWE1ZjRmMmYxZTUpOwogICAgICAgICAgICAKCiAgICAgICAgICAgIG1hcmtlcl9mMjUyMjYzY2JiNDE0NDM3ODM1MTJiODA2ZDMxODExOC5iaW5kUG9wdXAocG9wdXBfNjMyYTI2NDgyNDk4NDQ4Y2FlOWMxMTFlZWE3ZmM4ZDMpOwoKICAgICAgICAgICAgCiAgICAgICAgCiAgICAKCiAgICAgICAgICAgIHZhciBtYXJrZXJfNjFkZjY3YzFlODRjNDU5MThjMDRlNDFkMTg4Njc0MGIgPSBMLm1hcmtlcigKICAgICAgICAgICAgICAgIFsxNi44Mjc3MTQ5OTk5OTk5OTgsNzUuNzE4OTg4XSwKICAgICAgICAgICAgICAgIHsKICAgICAgICAgICAgICAgICAgICBpY29uOiBuZXcgTC5JY29uLkRlZmF1bHQoKQogICAgICAgICAgICAgICAgICAgIH0KICAgICAgICAgICAgICAgICkKICAgICAgICAgICAgICAgIC5hZGRUbyhtYXBfZGQ3MTYwNTEyYmY4NDE4ODkyZmQxNTg3YjBhZDU1ZmQpOwogICAgICAgICAgICAKICAgIAogICAgICAgICAgICB2YXIgcG9wdXBfOTgyNzI0M2Y5NDFkNDVhNDlkN2RjNThmNmM4OTNiNjIgPSBMLnBvcHVwKHttYXhXaWR0aDogJzMwMCd9KTsKCiAgICAgICAgICAgIAogICAgICAgICAgICAgICAgdmFyIGh0bWxfOWY2ZmQ5ZDkwZGUxNDA4ZWIyOGE0NGViMzY3NDhhNjkgPSAkKCc8ZGl2IGlkPSJodG1sXzlmNmZkOWQ5MGRlMTQwOGViMjhhNDRlYjM2NzQ4YTY5IiBzdHlsZT0id2lkdGg6IDEwMC4wJTsgaGVpZ2h0OiAxMDAuMCU7Ij5Lb2zEgXI8L2Rpdj4nKVswXTsKICAgICAgICAgICAgICAgIHBvcHVwXzk4MjcyNDNmOTQxZDQ1YTQ5ZDdkYzU4ZjZjODkzYjYyLnNldENvbnRlbnQoaHRtbF85ZjZmZDlkOTBkZTE0MDhlYjI4YTQ0ZWIzNjc0OGE2OSk7CiAgICAgICAgICAgIAoKICAgICAgICAgICAgbWFya2VyXzYxZGY2N2MxZTg0YzQ1OTE4YzA0ZTQxZDE4ODY3NDBiLmJpbmRQb3B1cChwb3B1cF85ODI3MjQzZjk0MWQ0NWE0OWQ3ZGM1OGY2Yzg5M2I2Mik7CgogICAgICAgICAgICAKICAgICAgICAKICAgIAogICAgICAgICAgICAgICAgdmFyIHBvbHlfbGluZV85YjM2NTRhMGIyZTA0MWZiYWFjM2M3ZjE4ZjgyNDA5MSA9IEwucG9seWxpbmUoCiAgICAgICAgICAgICAgICAgICAgW1sxNy4zMzU4MjcsIDc2LjgzNzU3XSwgWzE3LjkxMzMwODk5OTk5OTk5OCwgNzcuNTMwMTA1XSwgWzE2LjIwNTQ1OSwgNzcuMzU1NjY5OTk5OTk5OTldLCBbMTUuMjY5NTM3LCA3Ni4zODcxMDNdLCBbMTUuMTQyMDQ4OTk5OTk5OTk4LCA3Ni45MjM5OF0sIFsxMy4zNDEzNTgsIDc3LjEwMjIwM10sIFsxMy4xMzc2NzksIDc4LjEyOTk4OV0sIFsxMi45NzcwNjMwMDAwMDAwMDEsIDc3LjU4NzEwNl0sIFsxMi41NDU2MDIsIDc2Ljg5NTA3OF0sIFsxMi4yOTI2NjQsIDc2LjYzODU0M10sIFsxMi44NjUzNzEwMDAwMDAwMDEsIDc0Ljg0MjQzMTk5OTk5OTk5XSwgWzEzLjkzMjQyNCwgNzUuNTcyNTU1MDAwMDAwMDFdLCBbMTQuNDY5MjM3LCA3NS45MjM3NV0sIFsxNS4zNDk5NTUsIDc1LjEzODYxODk5OTk5OTk5XSwgWzE1Ljg2MjY0Mjk5OTk5OTk5OCwgNzQuNTA4NTM0XSwgWzE2LjgyNzcxNDk5OTk5OTk5OCwgNzUuNzE4OTg4XV0sCiAgICAgICAgICAgICAgICAgICAgewogICJidWJibGluZ01vdXNlRXZlbnRzIjogdHJ1ZSwKICAiY29sb3IiOiAicmVkIiwKICAiZGFzaEFycmF5IjogbnVsbCwKICAiZGFzaE9mZnNldCI6IG51bGwsCiAgImZpbGwiOiBmYWxzZSwKICAiZmlsbENvbG9yIjogInJlZCIsCiAgImZpbGxPcGFjaXR5IjogMC4yLAogICJmaWxsUnVsZSI6ICJldmVub2RkIiwKICAibGluZUNhcCI6ICJyb3VuZCIsCiAgImxpbmVKb2luIjogInJvdW5kIiwKICAibm9DbGlwIjogZmFsc2UsCiAgIm9wYWNpdHkiOiAxLAogICJzbW9vdGhGYWN0b3IiOiAxLjAsCiAgInN0cm9rZSI6IHRydWUsCiAgIndlaWdodCI6IDIuNQp9KS5hZGRUbyhtYXBfZGQ3MTYwNTEyYmY4NDE4ODkyZmQxNTg3YjBhZDU1ZmQpOwogICAgICAgICAgICAKPC9zY3JpcHQ+\" style=\"position:absolute;width:100%;height:100%;left:0;top:0;border:none !important;\" allowfullscreen webkitallowfullscreen mozallowfullscreen></iframe></div></div>"
      ],
      "text/plain": [
       "<folium.folium.Map at 0x7f027cb8c828>"
      ]
     },
     "execution_count": 49,
     "metadata": {},
     "output_type": "execute_result"
    }
   ],
   "source": [
    "br=[]\n",
    "for i in bestroute:\n",
    "    j=str(i)\n",
    "    k=(tuple(map(float,(re.sub(r\"\\((.*?)\\)\", r\"\\1\", j).split(',')))))\n",
    "    br.append(k)\n",
    "mapping(df3,br,a=16)"
   ]
  },
  {
   "cell_type": "code",
   "execution_count": null,
   "metadata": {},
   "outputs": [],
   "source": []
  }
 ],
 "metadata": {
  "kernelspec": {
   "display_name": "Python 3",
   "language": "python",
   "name": "python3"
  },
  "language_info": {
   "codemirror_mode": {
    "name": "ipython",
    "version": 3
   },
   "file_extension": ".py",
   "mimetype": "text/x-python",
   "name": "python",
   "nbconvert_exporter": "python",
   "pygments_lexer": "ipython3",
   "version": "3.7.3"
  }
 },
 "nbformat": 4,
 "nbformat_minor": 2
}
